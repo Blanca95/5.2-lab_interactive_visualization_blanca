{
 "cells": [
  {
   "cell_type": "markdown",
   "metadata": {},
   "source": [
    "# Interactive Visualization Lab\n",
    "\n",
    "Complete the following set of exercises to solidify your knowledge of interactive visualization using Plotly, Cufflinks, and IPyWidgets."
   ]
  },
  {
   "cell_type": "code",
   "execution_count": 28,
   "metadata": {},
   "outputs": [
    {
     "name": "stdout",
     "output_type": "stream",
     "text": [
      "Collecting jupyter\n",
      "  Downloading jupyter-1.0.0-py2.py3-none-any.whl (2.7 kB)\n",
      "Collecting nbconvert\n",
      "  Downloading nbconvert-7.11.0-py3-none-any.whl (256 kB)\n",
      "     ------------------------------------- 256.6/256.6 kB 15.4 MB/s eta 0:00:00\n",
      "Collecting notebook\n",
      "  Downloading notebook-7.0.6-py3-none-any.whl (4.0 MB)\n",
      "     ---------------------------------------- 4.0/4.0 MB 25.5 MB/s eta 0:00:00\n",
      "Collecting qtconsole\n",
      "  Downloading qtconsole-5.5.0-py3-none-any.whl (123 kB)\n",
      "     ---------------------------------------- 123.4/123.4 kB ? eta 0:00:00\n",
      "Collecting jupyter-console\n",
      "  Downloading jupyter_console-6.6.3-py3-none-any.whl (24 kB)\n",
      "Requirement already satisfied: ipykernel in c:\\users\\blanx\\appdata\\roaming\\python\\python311\\site-packages (from jupyter) (6.25.2)\n",
      "Requirement already satisfied: ipywidgets in c:\\users\\blanx\\appdata\\local\\programs\\python\\python311\\lib\\site-packages (from jupyter) (8.1.1)\n",
      "Requirement already satisfied: beautifulsoup4 in c:\\users\\blanx\\appdata\\local\\programs\\python\\python311\\lib\\site-packages (from nbconvert) (4.12.2)\n",
      "Collecting bleach!=5.0.0\n",
      "  Downloading bleach-6.1.0-py3-none-any.whl (162 kB)\n",
      "     ---------------------------------------- 162.8/162.8 kB ? eta 0:00:00\n",
      "Collecting defusedxml\n",
      "  Downloading defusedxml-0.7.1-py2.py3-none-any.whl (25 kB)\n",
      "Requirement already satisfied: jinja2>=3.0 in c:\\users\\blanx\\appdata\\local\\programs\\python\\python311\\lib\\site-packages (from nbconvert) (3.1.2)\n",
      "Requirement already satisfied: jupyter-core>=4.7 in c:\\users\\blanx\\appdata\\roaming\\python\\python311\\site-packages (from nbconvert) (5.4.0)\n",
      "Collecting jupyterlab-pygments\n",
      "  Downloading jupyterlab_pygments-0.2.2-py2.py3-none-any.whl (21 kB)\n",
      "Requirement already satisfied: markupsafe>=2.0 in c:\\users\\blanx\\appdata\\local\\programs\\python\\python311\\lib\\site-packages (from nbconvert) (2.1.3)\n",
      "Collecting mistune<4,>=2.0.3\n",
      "  Downloading mistune-3.0.2-py3-none-any.whl (47 kB)\n",
      "     ---------------------------------------- 48.0/48.0 kB 2.4 MB/s eta 0:00:00\n",
      "Collecting nbclient>=0.5.0\n",
      "  Downloading nbclient-0.9.0-py3-none-any.whl (24 kB)\n",
      "Requirement already satisfied: nbformat>=5.7 in c:\\users\\blanx\\appdata\\local\\programs\\python\\python311\\lib\\site-packages (from nbconvert) (5.9.2)\n",
      "Requirement already satisfied: packaging in c:\\users\\blanx\\appdata\\roaming\\python\\python311\\site-packages (from nbconvert) (23.2)\n",
      "Collecting pandocfilters>=1.4.1\n",
      "  Downloading pandocfilters-1.5.0-py2.py3-none-any.whl (8.7 kB)\n",
      "Requirement already satisfied: pygments>=2.4.1 in c:\\users\\blanx\\appdata\\roaming\\python\\python311\\site-packages (from nbconvert) (2.16.1)\n",
      "Collecting tinycss2\n",
      "  Downloading tinycss2-1.2.1-py3-none-any.whl (21 kB)\n",
      "Requirement already satisfied: traitlets>=5.1 in c:\\users\\blanx\\appdata\\roaming\\python\\python311\\site-packages (from nbconvert) (5.11.2)\n",
      "Requirement already satisfied: six>=1.9.0 in c:\\users\\blanx\\appdata\\roaming\\python\\python311\\site-packages (from bleach!=5.0.0->nbconvert) (1.16.0)\n",
      "Collecting webencodings\n",
      "  Downloading webencodings-0.5.1-py2.py3-none-any.whl (11 kB)\n",
      "Requirement already satisfied: platformdirs>=2.5 in c:\\users\\blanx\\appdata\\roaming\\python\\python311\\site-packages (from jupyter-core>=4.7->nbconvert) (3.11.0)\n",
      "Requirement already satisfied: pywin32>=300 in c:\\users\\blanx\\appdata\\roaming\\python\\python311\\site-packages (from jupyter-core>=4.7->nbconvert) (306)\n",
      "Requirement already satisfied: jupyter-client>=6.1.12 in c:\\users\\blanx\\appdata\\roaming\\python\\python311\\site-packages (from nbclient>=0.5.0->nbconvert) (8.4.0)\n",
      "Requirement already satisfied: fastjsonschema in c:\\users\\blanx\\appdata\\local\\programs\\python\\python311\\lib\\site-packages (from nbformat>=5.7->nbconvert) (2.18.1)\n",
      "Requirement already satisfied: jsonschema>=2.6 in c:\\users\\blanx\\appdata\\local\\programs\\python\\python311\\lib\\site-packages (from nbformat>=5.7->nbconvert) (4.19.2)\n",
      "Requirement already satisfied: soupsieve>1.2 in c:\\users\\blanx\\appdata\\local\\programs\\python\\python311\\lib\\site-packages (from beautifulsoup4->nbconvert) (2.5)\n",
      "Requirement already satisfied: comm>=0.1.1 in c:\\users\\blanx\\appdata\\roaming\\python\\python311\\site-packages (from ipykernel->jupyter) (0.1.4)\n",
      "Requirement already satisfied: debugpy>=1.6.5 in c:\\users\\blanx\\appdata\\roaming\\python\\python311\\site-packages (from ipykernel->jupyter) (1.8.0)\n",
      "Requirement already satisfied: ipython>=7.23.1 in c:\\users\\blanx\\appdata\\roaming\\python\\python311\\site-packages (from ipykernel->jupyter) (8.16.1)\n",
      "Requirement already satisfied: matplotlib-inline>=0.1 in c:\\users\\blanx\\appdata\\roaming\\python\\python311\\site-packages (from ipykernel->jupyter) (0.1.6)\n",
      "Requirement already satisfied: nest-asyncio in c:\\users\\blanx\\appdata\\roaming\\python\\python311\\site-packages (from ipykernel->jupyter) (1.5.8)\n",
      "Requirement already satisfied: psutil in c:\\users\\blanx\\appdata\\roaming\\python\\python311\\site-packages (from ipykernel->jupyter) (5.9.6)\n",
      "Requirement already satisfied: pyzmq>=20 in c:\\users\\blanx\\appdata\\roaming\\python\\python311\\site-packages (from ipykernel->jupyter) (25.1.1)\n",
      "Requirement already satisfied: tornado>=6.1 in c:\\users\\blanx\\appdata\\roaming\\python\\python311\\site-packages (from ipykernel->jupyter) (6.3.3)\n",
      "Requirement already satisfied: widgetsnbextension~=4.0.9 in c:\\users\\blanx\\appdata\\local\\programs\\python\\python311\\lib\\site-packages (from ipywidgets->jupyter) (4.0.9)\n",
      "Requirement already satisfied: jupyterlab-widgets~=3.0.9 in c:\\users\\blanx\\appdata\\local\\programs\\python\\python311\\lib\\site-packages (from ipywidgets->jupyter) (3.0.9)\n",
      "Requirement already satisfied: prompt-toolkit>=3.0.30 in c:\\users\\blanx\\appdata\\roaming\\python\\python311\\site-packages (from jupyter-console->jupyter) (3.0.39)\n",
      "Collecting jupyter-server<3,>=2.4.0\n",
      "  Downloading jupyter_server-2.10.0-py3-none-any.whl (377 kB)\n",
      "     ------------------------------------- 377.9/377.9 kB 23.0 MB/s eta 0:00:00\n",
      "Collecting jupyterlab-server<3,>=2.22.1\n",
      "  Downloading jupyterlab_server-2.25.1-py3-none-any.whl (58 kB)\n",
      "     ---------------------------------------- 59.0/59.0 kB 3.0 MB/s eta 0:00:00\n",
      "Collecting jupyterlab<5,>=4.0.2\n",
      "  Downloading jupyterlab-4.0.8-py3-none-any.whl (9.2 MB)\n",
      "     ---------------------------------------- 9.2/9.2 MB 36.7 MB/s eta 0:00:00\n",
      "Collecting notebook-shim<0.3,>=0.2\n",
      "  Downloading notebook_shim-0.2.3-py3-none-any.whl (13 kB)\n",
      "Collecting qtpy>=2.4.0\n",
      "  Downloading QtPy-2.4.1-py3-none-any.whl (93 kB)\n",
      "     ---------------------------------------- 93.5/93.5 kB 5.6 MB/s eta 0:00:00\n",
      "Requirement already satisfied: backcall in c:\\users\\blanx\\appdata\\roaming\\python\\python311\\site-packages (from ipython>=7.23.1->ipykernel->jupyter) (0.2.0)\n",
      "Requirement already satisfied: decorator in c:\\users\\blanx\\appdata\\roaming\\python\\python311\\site-packages (from ipython>=7.23.1->ipykernel->jupyter) (5.1.1)\n",
      "Requirement already satisfied: jedi>=0.16 in c:\\users\\blanx\\appdata\\roaming\\python\\python311\\site-packages (from ipython>=7.23.1->ipykernel->jupyter) (0.19.1)\n",
      "Requirement already satisfied: pickleshare in c:\\users\\blanx\\appdata\\roaming\\python\\python311\\site-packages (from ipython>=7.23.1->ipykernel->jupyter) (0.7.5)\n",
      "Requirement already satisfied: stack-data in c:\\users\\blanx\\appdata\\roaming\\python\\python311\\site-packages (from ipython>=7.23.1->ipykernel->jupyter) (0.6.3)\n",
      "Requirement already satisfied: colorama in c:\\users\\blanx\\appdata\\roaming\\python\\python311\\site-packages (from ipython>=7.23.1->ipykernel->jupyter) (0.4.6)\n",
      "Requirement already satisfied: attrs>=22.2.0 in c:\\users\\blanx\\appdata\\local\\programs\\python\\python311\\lib\\site-packages (from jsonschema>=2.6->nbformat>=5.7->nbconvert) (23.1.0)\n",
      "Requirement already satisfied: jsonschema-specifications>=2023.03.6 in c:\\users\\blanx\\appdata\\local\\programs\\python\\python311\\lib\\site-packages (from jsonschema>=2.6->nbformat>=5.7->nbconvert) (2023.7.1)\n",
      "Requirement already satisfied: referencing>=0.28.4 in c:\\users\\blanx\\appdata\\local\\programs\\python\\python311\\lib\\site-packages (from jsonschema>=2.6->nbformat>=5.7->nbconvert) (0.30.2)\n",
      "Requirement already satisfied: rpds-py>=0.7.1 in c:\\users\\blanx\\appdata\\local\\programs\\python\\python311\\lib\\site-packages (from jsonschema>=2.6->nbformat>=5.7->nbconvert) (0.12.0)\n",
      "Requirement already satisfied: python-dateutil>=2.8.2 in c:\\users\\blanx\\appdata\\roaming\\python\\python311\\site-packages (from jupyter-client>=6.1.12->nbclient>=0.5.0->nbconvert) (2.8.2)\n",
      "Collecting anyio>=3.1.0\n",
      "  Downloading anyio-4.0.0-py3-none-any.whl (83 kB)\n",
      "     ---------------------------------------- 83.1/83.1 kB ? eta 0:00:00\n",
      "Collecting argon2-cffi\n",
      "  Downloading argon2_cffi-23.1.0-py3-none-any.whl (15 kB)\n",
      "Collecting jupyter-events>=0.6.0\n",
      "  Downloading jupyter_events-0.9.0-py3-none-any.whl (18 kB)\n",
      "Collecting jupyter-server-terminals\n",
      "  Downloading jupyter_server_terminals-0.4.4-py3-none-any.whl (13 kB)\n",
      "Collecting overrides\n",
      "  Downloading overrides-7.4.0-py3-none-any.whl (17 kB)\n",
      "Collecting prometheus-client\n",
      "  Downloading prometheus_client-0.18.0-py3-none-any.whl (61 kB)\n",
      "     ---------------------------------------- 61.5/61.5 kB ? eta 0:00:00\n",
      "Collecting pywinpty\n",
      "  Downloading pywinpty-2.0.12-cp311-none-win_amd64.whl (1.4 MB)\n",
      "     ---------------------------------------- 1.4/1.4 MB 30.5 MB/s eta 0:00:00\n",
      "Collecting send2trash>=1.8.2\n",
      "  Downloading Send2Trash-1.8.2-py3-none-any.whl (18 kB)\n",
      "Collecting terminado>=0.8.3\n",
      "  Downloading terminado-0.17.1-py3-none-any.whl (17 kB)\n",
      "Collecting websocket-client\n",
      "  Downloading websocket_client-1.6.4-py3-none-any.whl (57 kB)\n",
      "     ---------------------------------------- 57.3/57.3 kB 3.1 MB/s eta 0:00:00\n",
      "Collecting async-lru>=1.0.0\n",
      "  Downloading async_lru-2.0.4-py3-none-any.whl (6.1 kB)\n",
      "Collecting jupyter-lsp>=2.0.0\n",
      "  Downloading jupyter_lsp-2.2.0-py3-none-any.whl (65 kB)\n",
      "     ---------------------------------------- 66.0/66.0 kB ? eta 0:00:00\n",
      "Collecting babel>=2.10\n",
      "  Downloading Babel-2.13.1-py3-none-any.whl (10.1 MB)\n",
      "     --------------------------------------- 10.1/10.1 MB 10.9 MB/s eta 0:00:00\n",
      "Collecting json5>=0.9.0\n",
      "  Downloading json5-0.9.14-py2.py3-none-any.whl (19 kB)\n",
      "Requirement already satisfied: requests>=2.31 in c:\\users\\blanx\\appdata\\local\\programs\\python\\python311\\lib\\site-packages (from jupyterlab-server<3,>=2.22.1->notebook->jupyter) (2.31.0)\n",
      "Requirement already satisfied: wcwidth in c:\\users\\blanx\\appdata\\roaming\\python\\python311\\site-packages (from prompt-toolkit>=3.0.30->jupyter-console->jupyter) (0.2.8)\n",
      "Requirement already satisfied: idna>=2.8 in c:\\users\\blanx\\appdata\\local\\programs\\python\\python311\\lib\\site-packages (from anyio>=3.1.0->jupyter-server<3,>=2.4.0->notebook->jupyter) (3.4)\n",
      "Requirement already satisfied: sniffio>=1.1 in c:\\users\\blanx\\appdata\\local\\programs\\python\\python311\\lib\\site-packages (from anyio>=3.1.0->jupyter-server<3,>=2.4.0->notebook->jupyter) (1.3.0)\n",
      "Requirement already satisfied: parso<0.9.0,>=0.8.3 in c:\\users\\blanx\\appdata\\roaming\\python\\python311\\site-packages (from jedi>=0.16->ipython>=7.23.1->ipykernel->jupyter) (0.8.3)\n",
      "Collecting python-json-logger>=2.0.4\n",
      "  Downloading python_json_logger-2.0.7-py3-none-any.whl (8.1 kB)\n",
      "Collecting pyyaml>=5.3\n",
      "  Downloading PyYAML-6.0.1-cp311-cp311-win_amd64.whl (144 kB)\n",
      "     -------------------------------------- 144.7/144.7 kB 2.2 MB/s eta 0:00:00\n",
      "Collecting rfc3339-validator\n",
      "  Downloading rfc3339_validator-0.1.4-py2.py3-none-any.whl (3.5 kB)\n",
      "Collecting rfc3986-validator>=0.1.1\n",
      "  Downloading rfc3986_validator-0.1.1-py2.py3-none-any.whl (4.2 kB)\n",
      "Requirement already satisfied: charset-normalizer<4,>=2 in c:\\users\\blanx\\appdata\\local\\programs\\python\\python311\\lib\\site-packages (from requests>=2.31->jupyterlab-server<3,>=2.22.1->notebook->jupyter) (3.3.1)\n",
      "Requirement already satisfied: urllib3<3,>=1.21.1 in c:\\users\\blanx\\appdata\\local\\programs\\python\\python311\\lib\\site-packages (from requests>=2.31->jupyterlab-server<3,>=2.22.1->notebook->jupyter) (2.0.7)\n",
      "Requirement already satisfied: certifi>=2017.4.17 in c:\\users\\blanx\\appdata\\local\\programs\\python\\python311\\lib\\site-packages (from requests>=2.31->jupyterlab-server<3,>=2.22.1->notebook->jupyter) (2023.7.22)\n",
      "Collecting argon2-cffi-bindings\n",
      "  Downloading argon2_cffi_bindings-21.2.0-cp36-abi3-win_amd64.whl (30 kB)\n",
      "Requirement already satisfied: executing>=1.2.0 in c:\\users\\blanx\\appdata\\roaming\\python\\python311\\site-packages (from stack-data->ipython>=7.23.1->ipykernel->jupyter) (2.0.0)\n",
      "Requirement already satisfied: asttokens>=2.1.0 in c:\\users\\blanx\\appdata\\roaming\\python\\python311\\site-packages (from stack-data->ipython>=7.23.1->ipykernel->jupyter) (2.4.0)\n",
      "Requirement already satisfied: pure-eval in c:\\users\\blanx\\appdata\\roaming\\python\\python311\\site-packages (from stack-data->ipython>=7.23.1->ipykernel->jupyter) (0.2.2)\n",
      "Collecting fqdn\n",
      "  Downloading fqdn-1.5.1-py3-none-any.whl (9.1 kB)\n",
      "Collecting isoduration\n",
      "  Downloading isoduration-20.11.0-py3-none-any.whl (11 kB)\n",
      "Collecting jsonpointer>1.13\n",
      "  Downloading jsonpointer-2.4-py2.py3-none-any.whl (7.8 kB)\n",
      "Collecting uri-template\n",
      "  Downloading uri_template-1.3.0-py3-none-any.whl (11 kB)\n",
      "Collecting webcolors>=1.11\n",
      "  Downloading webcolors-1.13-py3-none-any.whl (14 kB)\n",
      "Requirement already satisfied: cffi>=1.0.1 in c:\\users\\blanx\\appdata\\local\\programs\\python\\python311\\lib\\site-packages (from argon2-cffi-bindings->argon2-cffi->jupyter-server<3,>=2.4.0->notebook->jupyter) (1.16.0)\n",
      "Requirement already satisfied: pycparser in c:\\users\\blanx\\appdata\\local\\programs\\python\\python311\\lib\\site-packages (from cffi>=1.0.1->argon2-cffi-bindings->argon2-cffi->jupyter-server<3,>=2.4.0->notebook->jupyter) (2.21)\n",
      "Collecting arrow>=0.15.0\n",
      "  Downloading arrow-1.3.0-py3-none-any.whl (66 kB)\n",
      "     ---------------------------------------- 66.4/66.4 kB ? eta 0:00:00\n",
      "Collecting types-python-dateutil>=2.8.10\n",
      "  Downloading types_python_dateutil-2.8.19.14-py3-none-any.whl (9.4 kB)\n",
      "Installing collected packages: webencodings, types-python-dateutil, json5, websocket-client, webcolors, uri-template, tinycss2, send2trash, rfc3986-validator, rfc3339-validator, qtpy, pyyaml, pywinpty, python-json-logger, prometheus-client, pandocfilters, overrides, mistune, jupyterlab-pygments, jsonpointer, fqdn, defusedxml, bleach, babel, async-lru, anyio, terminado, arrow, argon2-cffi-bindings, jupyter-server-terminals, isoduration, argon2-cffi, qtconsole, nbclient, jupyter-events, jupyter-console, nbconvert, jupyter-server, notebook-shim, jupyterlab-server, jupyter-lsp, jupyterlab, notebook, jupyter\n",
      "Successfully installed anyio-4.0.0 argon2-cffi-23.1.0 argon2-cffi-bindings-21.2.0 arrow-1.3.0 async-lru-2.0.4 babel-2.13.1 bleach-6.1.0 defusedxml-0.7.1 fqdn-1.5.1 isoduration-20.11.0 json5-0.9.14 jsonpointer-2.4 jupyter-1.0.0 jupyter-console-6.6.3 jupyter-events-0.9.0 jupyter-lsp-2.2.0 jupyter-server-2.10.0 jupyter-server-terminals-0.4.4 jupyterlab-4.0.8 jupyterlab-pygments-0.2.2 jupyterlab-server-2.25.1 mistune-3.0.2 nbclient-0.9.0 nbconvert-7.11.0 notebook-7.0.6 notebook-shim-0.2.3 overrides-7.4.0 pandocfilters-1.5.0 prometheus-client-0.18.0 python-json-logger-2.0.7 pywinpty-2.0.12 pyyaml-6.0.1 qtconsole-5.5.0 qtpy-2.4.1 rfc3339-validator-0.1.4 rfc3986-validator-0.1.1 send2trash-1.8.2 terminado-0.17.1 tinycss2-1.2.1 types-python-dateutil-2.8.19.14 uri-template-1.3.0 webcolors-1.13 webencodings-0.5.1 websocket-client-1.6.4\n",
      "Note: you may need to restart the kernel to use updated packages.\n"
     ]
    },
    {
     "name": "stderr",
     "output_type": "stream",
     "text": [
      "WARNING: Retrying (Retry(total=4, connect=None, read=None, redirect=None, status=None)) after connection broken by 'ProtocolError('Connection aborted.', ConnectionResetError(10054, 'Se ha forzado la interrupción de una conexión existente por el host remoto', None, 10054, None))': /simple/jupyter/\n",
      "  WARNING: The script pyjson5.exe is installed in 'c:\\Users\\blanx\\AppData\\Local\\Programs\\Python\\Python311\\Scripts' which is not on PATH.\n",
      "  Consider adding this directory to PATH or, if you prefer to suppress this warning, use --no-warn-script-location.\n",
      "  WARNING: The script wsdump.exe is installed in 'c:\\Users\\blanx\\AppData\\Local\\Programs\\Python\\Python311\\Scripts' which is not on PATH.\n",
      "  Consider adding this directory to PATH or, if you prefer to suppress this warning, use --no-warn-script-location.\n",
      "  WARNING: The script send2trash.exe is installed in 'c:\\Users\\blanx\\AppData\\Local\\Programs\\Python\\Python311\\Scripts' which is not on PATH.\n",
      "  Consider adding this directory to PATH or, if you prefer to suppress this warning, use --no-warn-script-location.\n",
      "  WARNING: The script qtpy.exe is installed in 'c:\\Users\\blanx\\AppData\\Local\\Programs\\Python\\Python311\\Scripts' which is not on PATH.\n",
      "  Consider adding this directory to PATH or, if you prefer to suppress this warning, use --no-warn-script-location.\n",
      "  WARNING: The script pybabel.exe is installed in 'c:\\Users\\blanx\\AppData\\Local\\Programs\\Python\\Python311\\Scripts' which is not on PATH.\n",
      "  Consider adding this directory to PATH or, if you prefer to suppress this warning, use --no-warn-script-location.\n",
      "  WARNING: The script jupyter-execute.exe is installed in 'c:\\Users\\blanx\\AppData\\Local\\Programs\\Python\\Python311\\Scripts' which is not on PATH.\n",
      "  Consider adding this directory to PATH or, if you prefer to suppress this warning, use --no-warn-script-location.\n",
      "  WARNING: The script jupyter-events.exe is installed in 'c:\\Users\\blanx\\AppData\\Local\\Programs\\Python\\Python311\\Scripts' which is not on PATH.\n",
      "  Consider adding this directory to PATH or, if you prefer to suppress this warning, use --no-warn-script-location.\n",
      "  WARNING: The script jupyter-console.exe is installed in 'c:\\Users\\blanx\\AppData\\Local\\Programs\\Python\\Python311\\Scripts' which is not on PATH.\n",
      "  Consider adding this directory to PATH or, if you prefer to suppress this warning, use --no-warn-script-location.\n",
      "  WARNING: The scripts jupyter-dejavu.exe and jupyter-nbconvert.exe are installed in 'c:\\Users\\blanx\\AppData\\Local\\Programs\\Python\\Python311\\Scripts' which is not on PATH.\n",
      "  Consider adding this directory to PATH or, if you prefer to suppress this warning, use --no-warn-script-location.\n",
      "  WARNING: The script jupyter-server.exe is installed in 'c:\\Users\\blanx\\AppData\\Local\\Programs\\Python\\Python311\\Scripts' which is not on PATH.\n",
      "  Consider adding this directory to PATH or, if you prefer to suppress this warning, use --no-warn-script-location.\n",
      "  WARNING: The scripts jlpm.exe, jupyter-lab.exe, jupyter-labextension.exe and jupyter-labhub.exe are installed in 'c:\\Users\\blanx\\AppData\\Local\\Programs\\Python\\Python311\\Scripts' which is not on PATH.\n",
      "  Consider adding this directory to PATH or, if you prefer to suppress this warning, use --no-warn-script-location.\n",
      "  WARNING: The script jupyter-notebook.exe is installed in 'c:\\Users\\blanx\\AppData\\Local\\Programs\\Python\\Python311\\Scripts' which is not on PATH.\n",
      "  Consider adding this directory to PATH or, if you prefer to suppress this warning, use --no-warn-script-location.\n",
      "\n",
      "[notice] A new release of pip available: 22.3.1 -> 23.3.1\n",
      "[notice] To update, run: python.exe -m pip install --upgrade pip\n"
     ]
    }
   ],
   "source": [
    "#%pip install chart-studio\n",
    "#%pip install cufflinks\n",
    "#%pip install dash\n",
    "#%pip install openpyxl\n",
    "#%pip install --upgrade nbformat\n",
    "#%pip install --upgrade jupyter nbconvert"
   ]
  },
  {
   "cell_type": "code",
   "execution_count": 29,
   "metadata": {},
   "outputs": [
    {
     "data": {
      "text/html": [
       "        <script type=\"text/javascript\">\n",
       "        window.PlotlyConfig = {MathJaxConfig: 'local'};\n",
       "        if (window.MathJax && window.MathJax.Hub && window.MathJax.Hub.Config) {window.MathJax.Hub.Config({SVG: {font: \"STIX-Web\"}});}\n",
       "        if (typeof require !== 'undefined') {\n",
       "        require.undef(\"plotly\");\n",
       "        requirejs.config({\n",
       "            paths: {\n",
       "                'plotly': ['https://cdn.plot.ly/plotly-2.27.0.min']\n",
       "            }\n",
       "        });\n",
       "        require(['plotly'], function(Plotly) {\n",
       "            window._Plotly = Plotly;\n",
       "        });\n",
       "        }\n",
       "        </script>\n",
       "        "
      ]
     },
     "metadata": {},
     "output_type": "display_data"
    }
   ],
   "source": [
    "import pandas as pd\n",
    "import chart_studio.plotly as py\n",
    "import plotly.express as px\n",
    "import cufflinks as cf\n",
    "from ipywidgets import interact\n",
    "import nbformat\n",
    "\n",
    "cf.go_offline()"
   ]
  },
  {
   "cell_type": "markdown",
   "metadata": {},
   "source": [
    "## 1. Create an interactive bar chart showing total quantity and revenue by country (excluding United Kingdom) for the month of April 2011."
   ]
  },
  {
   "cell_type": "code",
   "execution_count": 19,
   "metadata": {},
   "outputs": [
    {
     "data": {
      "text/html": [
       "<div>\n",
       "<style scoped>\n",
       "    .dataframe tbody tr th:only-of-type {\n",
       "        vertical-align: middle;\n",
       "    }\n",
       "\n",
       "    .dataframe tbody tr th {\n",
       "        vertical-align: top;\n",
       "    }\n",
       "\n",
       "    .dataframe thead th {\n",
       "        text-align: right;\n",
       "    }\n",
       "</style>\n",
       "<table border=\"1\" class=\"dataframe\">\n",
       "  <thead>\n",
       "    <tr style=\"text-align: right;\">\n",
       "      <th></th>\n",
       "      <th>InvoiceNo</th>\n",
       "      <th>InvoiceDate</th>\n",
       "      <th>StockCode</th>\n",
       "      <th>Description</th>\n",
       "      <th>Quantity</th>\n",
       "      <th>UnitPrice</th>\n",
       "      <th>Revenue</th>\n",
       "      <th>CustomerID</th>\n",
       "      <th>Country</th>\n",
       "    </tr>\n",
       "  </thead>\n",
       "  <tbody>\n",
       "    <tr>\n",
       "      <th>0</th>\n",
       "      <td>536365</td>\n",
       "      <td>2010-12-01 08:26:00</td>\n",
       "      <td>85123A</td>\n",
       "      <td>CREAM HANGING HEART T-LIGHT HOLDER</td>\n",
       "      <td>6</td>\n",
       "      <td>2.55</td>\n",
       "      <td>15.3</td>\n",
       "      <td>17850</td>\n",
       "      <td>United Kingdom</td>\n",
       "    </tr>\n",
       "    <tr>\n",
       "      <th>1</th>\n",
       "      <td>536373</td>\n",
       "      <td>2010-12-01 09:02:00</td>\n",
       "      <td>85123A</td>\n",
       "      <td>CREAM HANGING HEART T-LIGHT HOLDER</td>\n",
       "      <td>6</td>\n",
       "      <td>2.55</td>\n",
       "      <td>15.3</td>\n",
       "      <td>17850</td>\n",
       "      <td>United Kingdom</td>\n",
       "    </tr>\n",
       "    <tr>\n",
       "      <th>2</th>\n",
       "      <td>536375</td>\n",
       "      <td>2010-12-01 09:32:00</td>\n",
       "      <td>85123A</td>\n",
       "      <td>CREAM HANGING HEART T-LIGHT HOLDER</td>\n",
       "      <td>6</td>\n",
       "      <td>2.55</td>\n",
       "      <td>15.3</td>\n",
       "      <td>17850</td>\n",
       "      <td>United Kingdom</td>\n",
       "    </tr>\n",
       "    <tr>\n",
       "      <th>3</th>\n",
       "      <td>536390</td>\n",
       "      <td>2010-12-01 10:19:00</td>\n",
       "      <td>85123A</td>\n",
       "      <td>CREAM HANGING HEART T-LIGHT HOLDER</td>\n",
       "      <td>64</td>\n",
       "      <td>2.55</td>\n",
       "      <td>163.2</td>\n",
       "      <td>17511</td>\n",
       "      <td>United Kingdom</td>\n",
       "    </tr>\n",
       "    <tr>\n",
       "      <th>4</th>\n",
       "      <td>536394</td>\n",
       "      <td>2010-12-01 10:39:00</td>\n",
       "      <td>85123A</td>\n",
       "      <td>CREAM HANGING HEART T-LIGHT HOLDER</td>\n",
       "      <td>32</td>\n",
       "      <td>2.55</td>\n",
       "      <td>81.6</td>\n",
       "      <td>13408</td>\n",
       "      <td>United Kingdom</td>\n",
       "    </tr>\n",
       "  </tbody>\n",
       "</table>\n",
       "</div>"
      ],
      "text/plain": [
       "   InvoiceNo         InvoiceDate StockCode  \\\n",
       "0     536365 2010-12-01 08:26:00    85123A   \n",
       "1     536373 2010-12-01 09:02:00    85123A   \n",
       "2     536375 2010-12-01 09:32:00    85123A   \n",
       "3     536390 2010-12-01 10:19:00    85123A   \n",
       "4     536394 2010-12-01 10:39:00    85123A   \n",
       "\n",
       "                          Description  Quantity  UnitPrice  Revenue  \\\n",
       "0  CREAM HANGING HEART T-LIGHT HOLDER         6       2.55     15.3   \n",
       "1  CREAM HANGING HEART T-LIGHT HOLDER         6       2.55     15.3   \n",
       "2  CREAM HANGING HEART T-LIGHT HOLDER         6       2.55     15.3   \n",
       "3  CREAM HANGING HEART T-LIGHT HOLDER        64       2.55    163.2   \n",
       "4  CREAM HANGING HEART T-LIGHT HOLDER        32       2.55     81.6   \n",
       "\n",
       "   CustomerID         Country  \n",
       "0       17850  United Kingdom  \n",
       "1       17850  United Kingdom  \n",
       "2       17850  United Kingdom  \n",
       "3       17511  United Kingdom  \n",
       "4       13408  United Kingdom  "
      ]
     },
     "execution_count": 19,
     "metadata": {},
     "output_type": "execute_result"
    }
   ],
   "source": [
    "df = pd.read_excel('../data/Online Retail.xlsx')\n",
    "\n",
    "df.head()"
   ]
  },
  {
   "cell_type": "code",
   "execution_count": 22,
   "metadata": {},
   "outputs": [
    {
     "data": {
      "text/html": [
       "<div>\n",
       "<style scoped>\n",
       "    .dataframe tbody tr th:only-of-type {\n",
       "        vertical-align: middle;\n",
       "    }\n",
       "\n",
       "    .dataframe tbody tr th {\n",
       "        vertical-align: top;\n",
       "    }\n",
       "\n",
       "    .dataframe thead th {\n",
       "        text-align: right;\n",
       "    }\n",
       "</style>\n",
       "<table border=\"1\" class=\"dataframe\">\n",
       "  <thead>\n",
       "    <tr style=\"text-align: right;\">\n",
       "      <th></th>\n",
       "      <th>Country</th>\n",
       "      <th>Quantity</th>\n",
       "      <th>Revenue</th>\n",
       "    </tr>\n",
       "  </thead>\n",
       "  <tbody>\n",
       "    <tr>\n",
       "      <th>0</th>\n",
       "      <td>Australia</td>\n",
       "      <td>224</td>\n",
       "      <td>421.60</td>\n",
       "    </tr>\n",
       "    <tr>\n",
       "      <th>1</th>\n",
       "      <td>Austria</td>\n",
       "      <td>308</td>\n",
       "      <td>584.78</td>\n",
       "    </tr>\n",
       "    <tr>\n",
       "      <th>2</th>\n",
       "      <td>Belgium</td>\n",
       "      <td>1170</td>\n",
       "      <td>1788.48</td>\n",
       "    </tr>\n",
       "    <tr>\n",
       "      <th>3</th>\n",
       "      <td>Brazil</td>\n",
       "      <td>356</td>\n",
       "      <td>1143.60</td>\n",
       "    </tr>\n",
       "    <tr>\n",
       "      <th>4</th>\n",
       "      <td>Channel Islands</td>\n",
       "      <td>96</td>\n",
       "      <td>243.00</td>\n",
       "    </tr>\n",
       "  </tbody>\n",
       "</table>\n",
       "</div>"
      ],
      "text/plain": [
       "           Country  Quantity  Revenue\n",
       "0        Australia       224   421.60\n",
       "1          Austria       308   584.78\n",
       "2          Belgium      1170  1788.48\n",
       "3           Brazil       356  1143.60\n",
       "4  Channel Islands        96   243.00"
      ]
     },
     "execution_count": 22,
     "metadata": {},
     "output_type": "execute_result"
    }
   ],
   "source": [
    "data = df[(df['Country'] != 'United Kingdom') & (df['InvoiceDate'] >= '2011-04-01') & (df['InvoiceDate'] <= '2011-04-30')]\n",
    "\n",
    "data = data.groupby('Country').agg({'Quantity': 'sum', 'Revenue': 'sum'}).reset_index()\n",
    "\n",
    "data.head()\n"
   ]
  },
  {
   "cell_type": "code",
   "execution_count": 30,
   "metadata": {},
   "outputs": [
    {
     "ename": "ValueError",
     "evalue": "Mime type rendering requires nbformat>=4.2.0 but it is not installed",
     "output_type": "error",
     "traceback": [
      "\u001b[1;31m---------------------------------------------------------------------------\u001b[0m",
      "\u001b[1;31mValueError\u001b[0m                                Traceback (most recent call last)",
      "\u001b[1;32mc:\\Users\\blanx\\ironhack\\labs_clase\\semana_5\\dia_2\\5.2-lab_interactive_visualization_blanca\\your-code\\main.ipynb Celda 7\u001b[0m line \u001b[0;36m1\n\u001b[1;32m----> <a href='vscode-notebook-cell:/c%3A/Users/blanx/ironhack/labs_clase/semana_5/dia_2/5.2-lab_interactive_visualization_blanca/your-code/main.ipynb#X52sZmlsZQ%3D%3D?line=0'>1</a>\u001b[0m data\u001b[39m.\u001b[39;49miplot(kind\u001b[39m=\u001b[39;49m\u001b[39m'\u001b[39;49m\u001b[39mbar\u001b[39;49m\u001b[39m'\u001b[39;49m, xTitle\u001b[39m=\u001b[39;49m\u001b[39m'\u001b[39;49m\u001b[39mCountry\u001b[39;49m\u001b[39m'\u001b[39;49m, title\u001b[39m=\u001b[39;49m\u001b[39m'\u001b[39;49m\u001b[39mCantidad total y beneficio\u001b[39;49m\u001b[39m'\u001b[39;49m)\n",
      "File \u001b[1;32mc:\\Users\\blanx\\AppData\\Local\\Programs\\Python\\Python311\\Lib\\site-packages\\cufflinks\\plotlytools.py:1216\u001b[0m, in \u001b[0;36m_iplot\u001b[1;34m(self, kind, data, layout, filename, sharing, title, xTitle, yTitle, zTitle, theme, colors, colorscale, fill, width, dash, mode, interpolation, symbol, size, barmode, sortbars, bargap, bargroupgap, bins, histnorm, histfunc, orientation, boxpoints, annotations, keys, bestfit, bestfit_colors, mean, mean_colors, categories, x, y, z, text, gridcolor, zerolinecolor, margin, labels, values, secondary_y, secondary_y_title, subplots, shape, error_x, error_y, error_type, locations, lon, lat, asFrame, asDates, asFigure, asImage, dimensions, asPlot, asUrl, online, **kwargs)\u001b[0m\n\u001b[0;32m   1214\u001b[0m \t\u001b[39mreturn\u001b[39;00m Figure(figure)\n\u001b[0;32m   1215\u001b[0m \u001b[39melse\u001b[39;00m:\n\u001b[1;32m-> 1216\u001b[0m \t\u001b[39mreturn\u001b[39;00m iplot(figure,validate\u001b[39m=\u001b[39;49mvalidate,sharing\u001b[39m=\u001b[39;49msharing,filename\u001b[39m=\u001b[39;49mfilename,\n\u001b[0;32m   1217\u001b[0m \t\t online\u001b[39m=\u001b[39;49monline,asImage\u001b[39m=\u001b[39;49masImage,asUrl\u001b[39m=\u001b[39;49masUrl,asPlot\u001b[39m=\u001b[39;49masPlot,\n\u001b[0;32m   1218\u001b[0m \t\t dimensions\u001b[39m=\u001b[39;49mdimensions,display_image\u001b[39m=\u001b[39;49mkwargs\u001b[39m.\u001b[39;49mget(\u001b[39m'\u001b[39;49m\u001b[39mdisplay_image\u001b[39;49m\u001b[39m'\u001b[39;49m,\u001b[39mTrue\u001b[39;49;00m))\n",
      "File \u001b[1;32mc:\\Users\\blanx\\AppData\\Local\\Programs\\Python\\Python311\\Lib\\site-packages\\cufflinks\\plotlytools.py:1468\u001b[0m, in \u001b[0;36miplot\u001b[1;34m(figure, validate, sharing, filename, online, asImage, asUrl, asPlot, dimensions, display_image, **kwargs)\u001b[0m\n\u001b[0;32m   1466\u001b[0m \u001b[39m## iplot\u001b[39;00m\n\u001b[0;32m   1467\u001b[0m \u001b[39mif\u001b[39;00m offline\u001b[39m.\u001b[39mis_offline() \u001b[39mand\u001b[39;00m \u001b[39mnot\u001b[39;00m online:\t\n\u001b[1;32m-> 1468\u001b[0m \t\u001b[39mreturn\u001b[39;00m offline\u001b[39m.\u001b[39;49mpy_offline\u001b[39m.\u001b[39;49miplot(figure, validate\u001b[39m=\u001b[39;49mvalidate, filename\u001b[39m=\u001b[39;49mfilename, show_link\u001b[39m=\u001b[39;49mshow_link, link_text\u001b[39m=\u001b[39;49mlink_text, config\u001b[39m=\u001b[39;49mconfig)\n\u001b[0;32m   1469\u001b[0m \u001b[39melse\u001b[39;00m:\t\t\n\u001b[0;32m   1470\u001b[0m \t\u001b[39mreturn\u001b[39;00m py\u001b[39m.\u001b[39miplot(figure,validate\u001b[39m=\u001b[39mvalidate,sharing\u001b[39m=\u001b[39msharing,\n\u001b[0;32m   1471\u001b[0m \t\t\t\t\tfilename\u001b[39m=\u001b[39mfilename)\n",
      "File \u001b[1;32mc:\\Users\\blanx\\AppData\\Local\\Programs\\Python\\Python311\\Lib\\site-packages\\plotly\\offline\\offline.py:387\u001b[0m, in \u001b[0;36miplot\u001b[1;34m(figure_or_data, show_link, link_text, validate, image, filename, image_width, image_height, config, auto_play, animation_opts)\u001b[0m\n\u001b[0;32m    382\u001b[0m post_script \u001b[39m=\u001b[39m build_save_image_post_script(\n\u001b[0;32m    383\u001b[0m     image, filename, image_height, image_width, \u001b[39m\"\u001b[39m\u001b[39miplot\u001b[39m\u001b[39m\"\u001b[39m\n\u001b[0;32m    384\u001b[0m )\n\u001b[0;32m    386\u001b[0m \u001b[39m# Show figure\u001b[39;00m\n\u001b[1;32m--> 387\u001b[0m pio\u001b[39m.\u001b[39;49mshow(\n\u001b[0;32m    388\u001b[0m     figure,\n\u001b[0;32m    389\u001b[0m     validate\u001b[39m=\u001b[39;49mvalidate,\n\u001b[0;32m    390\u001b[0m     config\u001b[39m=\u001b[39;49mconfig,\n\u001b[0;32m    391\u001b[0m     auto_play\u001b[39m=\u001b[39;49mauto_play,\n\u001b[0;32m    392\u001b[0m     post_script\u001b[39m=\u001b[39;49mpost_script,\n\u001b[0;32m    393\u001b[0m     animation_opts\u001b[39m=\u001b[39;49manimation_opts,\n\u001b[0;32m    394\u001b[0m )\n",
      "File \u001b[1;32mc:\\Users\\blanx\\AppData\\Local\\Programs\\Python\\Python311\\Lib\\site-packages\\plotly\\io\\_renderers.py:394\u001b[0m, in \u001b[0;36mshow\u001b[1;34m(fig, renderer, validate, **kwargs)\u001b[0m\n\u001b[0;32m    389\u001b[0m         \u001b[39mraise\u001b[39;00m \u001b[39mValueError\u001b[39;00m(\n\u001b[0;32m    390\u001b[0m             \u001b[39m\"\u001b[39m\u001b[39mMime type rendering requires ipython but it is not installed\u001b[39m\u001b[39m\"\u001b[39m\n\u001b[0;32m    391\u001b[0m         )\n\u001b[0;32m    393\u001b[0m     \u001b[39mif\u001b[39;00m \u001b[39mnot\u001b[39;00m nbformat \u001b[39mor\u001b[39;00m Version(nbformat\u001b[39m.\u001b[39m__version__) \u001b[39m<\u001b[39m Version(\u001b[39m\"\u001b[39m\u001b[39m4.2.0\u001b[39m\u001b[39m\"\u001b[39m):\n\u001b[1;32m--> 394\u001b[0m         \u001b[39mraise\u001b[39;00m \u001b[39mValueError\u001b[39;00m(\n\u001b[0;32m    395\u001b[0m             \u001b[39m\"\u001b[39m\u001b[39mMime type rendering requires nbformat>=4.2.0 but it is not installed\u001b[39m\u001b[39m\"\u001b[39m\n\u001b[0;32m    396\u001b[0m         )\n\u001b[0;32m    398\u001b[0m     ipython_display\u001b[39m.\u001b[39mdisplay(bundle, raw\u001b[39m=\u001b[39m\u001b[39mTrue\u001b[39;00m)\n\u001b[0;32m    400\u001b[0m \u001b[39m# external renderers\u001b[39;00m\n",
      "\u001b[1;31mValueError\u001b[0m: Mime type rendering requires nbformat>=4.2.0 but it is not installed"
     ]
    }
   ],
   "source": [
    "data.iplot(kind='bar', xTitle='Country', title='Totales y Beneficios')\n",
    "#me da error e instalandome todo lo que me pide sigue sin funcionar..."
   ]
  },
  {
   "cell_type": "markdown",
   "metadata": {},
   "source": [
    "## 2. Create an interactive line chart showing quantity and revenue sold to France between January 1st and May 31st 2011."
   ]
  },
  {
   "cell_type": "code",
   "execution_count": 36,
   "metadata": {},
   "outputs": [
    {
     "data": {
      "text/html": [
       "<div>\n",
       "<style scoped>\n",
       "    .dataframe tbody tr th:only-of-type {\n",
       "        vertical-align: middle;\n",
       "    }\n",
       "\n",
       "    .dataframe tbody tr th {\n",
       "        vertical-align: top;\n",
       "    }\n",
       "\n",
       "    .dataframe thead th {\n",
       "        text-align: right;\n",
       "    }\n",
       "</style>\n",
       "<table border=\"1\" class=\"dataframe\">\n",
       "  <thead>\n",
       "    <tr style=\"text-align: right;\">\n",
       "      <th></th>\n",
       "      <th>InvoiceNo</th>\n",
       "      <th>InvoiceDate</th>\n",
       "      <th>StockCode</th>\n",
       "      <th>Description</th>\n",
       "      <th>Quantity</th>\n",
       "      <th>UnitPrice</th>\n",
       "      <th>Revenue</th>\n",
       "      <th>CustomerID</th>\n",
       "      <th>Country</th>\n",
       "    </tr>\n",
       "  </thead>\n",
       "  <tbody>\n",
       "    <tr>\n",
       "      <th>807</th>\n",
       "      <td>551163</td>\n",
       "      <td>2011-04-26 15:52:00</td>\n",
       "      <td>85123A</td>\n",
       "      <td>CREAM HANGING HEART T-LIGHT HOLDER</td>\n",
       "      <td>9</td>\n",
       "      <td>2.95</td>\n",
       "      <td>26.55</td>\n",
       "      <td>12573</td>\n",
       "      <td>France</td>\n",
       "    </tr>\n",
       "    <tr>\n",
       "      <th>2645</th>\n",
       "      <td>540976</td>\n",
       "      <td>2011-01-12 15:00:00</td>\n",
       "      <td>84029G</td>\n",
       "      <td>KNITTED UNION FLAG HOT WATER BOTTLE</td>\n",
       "      <td>4</td>\n",
       "      <td>3.75</td>\n",
       "      <td>15.00</td>\n",
       "      <td>12652</td>\n",
       "      <td>France</td>\n",
       "    </tr>\n",
       "    <tr>\n",
       "      <th>3290</th>\n",
       "      <td>545181</td>\n",
       "      <td>2011-02-28 14:45:00</td>\n",
       "      <td>22752</td>\n",
       "      <td>SET 7 BABUSHKA NESTING BOXES</td>\n",
       "      <td>4</td>\n",
       "      <td>8.50</td>\n",
       "      <td>34.00</td>\n",
       "      <td>12509</td>\n",
       "      <td>France</td>\n",
       "    </tr>\n",
       "    <tr>\n",
       "      <th>4614</th>\n",
       "      <td>542629</td>\n",
       "      <td>2011-01-31 09:57:00</td>\n",
       "      <td>84879</td>\n",
       "      <td>ASSORTED COLOUR BIRD ORNAMENT</td>\n",
       "      <td>160</td>\n",
       "      <td>1.45</td>\n",
       "      <td>232.00</td>\n",
       "      <td>12731</td>\n",
       "      <td>France</td>\n",
       "    </tr>\n",
       "    <tr>\n",
       "      <th>4795</th>\n",
       "      <td>548409</td>\n",
       "      <td>2011-03-31 10:27:00</td>\n",
       "      <td>84879</td>\n",
       "      <td>ASSORTED COLOUR BIRD ORNAMENT</td>\n",
       "      <td>160</td>\n",
       "      <td>1.45</td>\n",
       "      <td>232.00</td>\n",
       "      <td>12731</td>\n",
       "      <td>France</td>\n",
       "    </tr>\n",
       "  </tbody>\n",
       "</table>\n",
       "</div>"
      ],
      "text/plain": [
       "      InvoiceNo         InvoiceDate StockCode  \\\n",
       "807      551163 2011-04-26 15:52:00    85123A   \n",
       "2645     540976 2011-01-12 15:00:00    84029G   \n",
       "3290     545181 2011-02-28 14:45:00     22752   \n",
       "4614     542629 2011-01-31 09:57:00     84879   \n",
       "4795     548409 2011-03-31 10:27:00     84879   \n",
       "\n",
       "                              Description  Quantity  UnitPrice  Revenue  \\\n",
       "807    CREAM HANGING HEART T-LIGHT HOLDER         9       2.95    26.55   \n",
       "2645  KNITTED UNION FLAG HOT WATER BOTTLE         4       3.75    15.00   \n",
       "3290         SET 7 BABUSHKA NESTING BOXES         4       8.50    34.00   \n",
       "4614        ASSORTED COLOUR BIRD ORNAMENT       160       1.45   232.00   \n",
       "4795        ASSORTED COLOUR BIRD ORNAMENT       160       1.45   232.00   \n",
       "\n",
       "      CustomerID Country  \n",
       "807        12573  France  \n",
       "2645       12652  France  \n",
       "3290       12509  France  \n",
       "4614       12731  France  \n",
       "4795       12731  France  "
      ]
     },
     "execution_count": 36,
     "metadata": {},
     "output_type": "execute_result"
    }
   ],
   "source": [
    "france=df[df.Country=='France']\n",
    "\n",
    "france=france.loc[(france.InvoiceDate >= '2011-1-1') & (france.InvoiceDate <= '2011-5-31')]\n",
    "\n",
    "france.head()"
   ]
  },
  {
   "cell_type": "code",
   "execution_count": 37,
   "metadata": {},
   "outputs": [
    {
     "data": {
      "text/html": [
       "<div>\n",
       "<style scoped>\n",
       "    .dataframe tbody tr th:only-of-type {\n",
       "        vertical-align: middle;\n",
       "    }\n",
       "\n",
       "    .dataframe tbody tr th {\n",
       "        vertical-align: top;\n",
       "    }\n",
       "\n",
       "    .dataframe thead th {\n",
       "        text-align: right;\n",
       "    }\n",
       "</style>\n",
       "<table border=\"1\" class=\"dataframe\">\n",
       "  <thead>\n",
       "    <tr style=\"text-align: right;\">\n",
       "      <th></th>\n",
       "      <th>Quantity</th>\n",
       "      <th>Revenue</th>\n",
       "    </tr>\n",
       "  </thead>\n",
       "  <tbody>\n",
       "    <tr>\n",
       "      <th>807</th>\n",
       "      <td>9</td>\n",
       "      <td>26.55</td>\n",
       "    </tr>\n",
       "    <tr>\n",
       "      <th>2645</th>\n",
       "      <td>4</td>\n",
       "      <td>15.00</td>\n",
       "    </tr>\n",
       "    <tr>\n",
       "      <th>3290</th>\n",
       "      <td>4</td>\n",
       "      <td>34.00</td>\n",
       "    </tr>\n",
       "    <tr>\n",
       "      <th>4614</th>\n",
       "      <td>160</td>\n",
       "      <td>232.00</td>\n",
       "    </tr>\n",
       "    <tr>\n",
       "      <th>4795</th>\n",
       "      <td>160</td>\n",
       "      <td>232.00</td>\n",
       "    </tr>\n",
       "  </tbody>\n",
       "</table>\n",
       "</div>"
      ],
      "text/plain": [
       "      Quantity  Revenue\n",
       "807          9    26.55\n",
       "2645         4    15.00\n",
       "3290         4    34.00\n",
       "4614       160   232.00\n",
       "4795       160   232.00"
      ]
     },
     "execution_count": 37,
     "metadata": {},
     "output_type": "execute_result"
    }
   ],
   "source": [
    "france = france[['Quantity', 'Revenue']]\n",
    "\n",
    "france.head()"
   ]
  },
  {
   "cell_type": "code",
   "execution_count": 38,
   "metadata": {},
   "outputs": [
    {
     "ename": "ValueError",
     "evalue": "Mime type rendering requires nbformat>=4.2.0 but it is not installed",
     "output_type": "error",
     "traceback": [
      "\u001b[1;31m---------------------------------------------------------------------------\u001b[0m",
      "\u001b[1;31mValueError\u001b[0m                                Traceback (most recent call last)",
      "\u001b[1;32mc:\\Users\\blanx\\ironhack\\labs_clase\\semana_5\\dia_2\\5.2-lab_interactive_visualization_blanca\\your-code\\main.ipynb Celda 11\u001b[0m line \u001b[0;36m1\n\u001b[1;32m----> <a href='vscode-notebook-cell:/c%3A/Users/blanx/ironhack/labs_clase/semana_5/dia_2/5.2-lab_interactive_visualization_blanca/your-code/main.ipynb#X14sZmlsZQ%3D%3D?line=0'>1</a>\u001b[0m france\u001b[39m.\u001b[39;49miplot(kind\u001b[39m=\u001b[39;49m\u001b[39m'\u001b[39;49m\u001b[39mline\u001b[39;49m\u001b[39m'\u001b[39;49m, xTitle\u001b[39m=\u001b[39;49m\u001b[39m'\u001b[39;49m\u001b[39mCountry\u001b[39;49m\u001b[39m'\u001b[39;49m, title\u001b[39m=\u001b[39;49m\u001b[39m'\u001b[39;49m\u001b[39mTotales y Beneficios\u001b[39;49m\u001b[39m'\u001b[39;49m)\n",
      "File \u001b[1;32mc:\\Users\\blanx\\AppData\\Local\\Programs\\Python\\Python311\\Lib\\site-packages\\cufflinks\\plotlytools.py:1216\u001b[0m, in \u001b[0;36m_iplot\u001b[1;34m(self, kind, data, layout, filename, sharing, title, xTitle, yTitle, zTitle, theme, colors, colorscale, fill, width, dash, mode, interpolation, symbol, size, barmode, sortbars, bargap, bargroupgap, bins, histnorm, histfunc, orientation, boxpoints, annotations, keys, bestfit, bestfit_colors, mean, mean_colors, categories, x, y, z, text, gridcolor, zerolinecolor, margin, labels, values, secondary_y, secondary_y_title, subplots, shape, error_x, error_y, error_type, locations, lon, lat, asFrame, asDates, asFigure, asImage, dimensions, asPlot, asUrl, online, **kwargs)\u001b[0m\n\u001b[0;32m   1214\u001b[0m \t\u001b[39mreturn\u001b[39;00m Figure(figure)\n\u001b[0;32m   1215\u001b[0m \u001b[39melse\u001b[39;00m:\n\u001b[1;32m-> 1216\u001b[0m \t\u001b[39mreturn\u001b[39;00m iplot(figure,validate\u001b[39m=\u001b[39;49mvalidate,sharing\u001b[39m=\u001b[39;49msharing,filename\u001b[39m=\u001b[39;49mfilename,\n\u001b[0;32m   1217\u001b[0m \t\t online\u001b[39m=\u001b[39;49monline,asImage\u001b[39m=\u001b[39;49masImage,asUrl\u001b[39m=\u001b[39;49masUrl,asPlot\u001b[39m=\u001b[39;49masPlot,\n\u001b[0;32m   1218\u001b[0m \t\t dimensions\u001b[39m=\u001b[39;49mdimensions,display_image\u001b[39m=\u001b[39;49mkwargs\u001b[39m.\u001b[39;49mget(\u001b[39m'\u001b[39;49m\u001b[39mdisplay_image\u001b[39;49m\u001b[39m'\u001b[39;49m,\u001b[39mTrue\u001b[39;49;00m))\n",
      "File \u001b[1;32mc:\\Users\\blanx\\AppData\\Local\\Programs\\Python\\Python311\\Lib\\site-packages\\cufflinks\\plotlytools.py:1468\u001b[0m, in \u001b[0;36miplot\u001b[1;34m(figure, validate, sharing, filename, online, asImage, asUrl, asPlot, dimensions, display_image, **kwargs)\u001b[0m\n\u001b[0;32m   1466\u001b[0m \u001b[39m## iplot\u001b[39;00m\n\u001b[0;32m   1467\u001b[0m \u001b[39mif\u001b[39;00m offline\u001b[39m.\u001b[39mis_offline() \u001b[39mand\u001b[39;00m \u001b[39mnot\u001b[39;00m online:\t\n\u001b[1;32m-> 1468\u001b[0m \t\u001b[39mreturn\u001b[39;00m offline\u001b[39m.\u001b[39;49mpy_offline\u001b[39m.\u001b[39;49miplot(figure, validate\u001b[39m=\u001b[39;49mvalidate, filename\u001b[39m=\u001b[39;49mfilename, show_link\u001b[39m=\u001b[39;49mshow_link, link_text\u001b[39m=\u001b[39;49mlink_text, config\u001b[39m=\u001b[39;49mconfig)\n\u001b[0;32m   1469\u001b[0m \u001b[39melse\u001b[39;00m:\t\t\n\u001b[0;32m   1470\u001b[0m \t\u001b[39mreturn\u001b[39;00m py\u001b[39m.\u001b[39miplot(figure,validate\u001b[39m=\u001b[39mvalidate,sharing\u001b[39m=\u001b[39msharing,\n\u001b[0;32m   1471\u001b[0m \t\t\t\t\tfilename\u001b[39m=\u001b[39mfilename)\n",
      "File \u001b[1;32mc:\\Users\\blanx\\AppData\\Local\\Programs\\Python\\Python311\\Lib\\site-packages\\plotly\\offline\\offline.py:387\u001b[0m, in \u001b[0;36miplot\u001b[1;34m(figure_or_data, show_link, link_text, validate, image, filename, image_width, image_height, config, auto_play, animation_opts)\u001b[0m\n\u001b[0;32m    382\u001b[0m post_script \u001b[39m=\u001b[39m build_save_image_post_script(\n\u001b[0;32m    383\u001b[0m     image, filename, image_height, image_width, \u001b[39m\"\u001b[39m\u001b[39miplot\u001b[39m\u001b[39m\"\u001b[39m\n\u001b[0;32m    384\u001b[0m )\n\u001b[0;32m    386\u001b[0m \u001b[39m# Show figure\u001b[39;00m\n\u001b[1;32m--> 387\u001b[0m pio\u001b[39m.\u001b[39;49mshow(\n\u001b[0;32m    388\u001b[0m     figure,\n\u001b[0;32m    389\u001b[0m     validate\u001b[39m=\u001b[39;49mvalidate,\n\u001b[0;32m    390\u001b[0m     config\u001b[39m=\u001b[39;49mconfig,\n\u001b[0;32m    391\u001b[0m     auto_play\u001b[39m=\u001b[39;49mauto_play,\n\u001b[0;32m    392\u001b[0m     post_script\u001b[39m=\u001b[39;49mpost_script,\n\u001b[0;32m    393\u001b[0m     animation_opts\u001b[39m=\u001b[39;49manimation_opts,\n\u001b[0;32m    394\u001b[0m )\n",
      "File \u001b[1;32mc:\\Users\\blanx\\AppData\\Local\\Programs\\Python\\Python311\\Lib\\site-packages\\plotly\\io\\_renderers.py:394\u001b[0m, in \u001b[0;36mshow\u001b[1;34m(fig, renderer, validate, **kwargs)\u001b[0m\n\u001b[0;32m    389\u001b[0m         \u001b[39mraise\u001b[39;00m \u001b[39mValueError\u001b[39;00m(\n\u001b[0;32m    390\u001b[0m             \u001b[39m\"\u001b[39m\u001b[39mMime type rendering requires ipython but it is not installed\u001b[39m\u001b[39m\"\u001b[39m\n\u001b[0;32m    391\u001b[0m         )\n\u001b[0;32m    393\u001b[0m     \u001b[39mif\u001b[39;00m \u001b[39mnot\u001b[39;00m nbformat \u001b[39mor\u001b[39;00m Version(nbformat\u001b[39m.\u001b[39m__version__) \u001b[39m<\u001b[39m Version(\u001b[39m\"\u001b[39m\u001b[39m4.2.0\u001b[39m\u001b[39m\"\u001b[39m):\n\u001b[1;32m--> 394\u001b[0m         \u001b[39mraise\u001b[39;00m \u001b[39mValueError\u001b[39;00m(\n\u001b[0;32m    395\u001b[0m             \u001b[39m\"\u001b[39m\u001b[39mMime type rendering requires nbformat>=4.2.0 but it is not installed\u001b[39m\u001b[39m\"\u001b[39m\n\u001b[0;32m    396\u001b[0m         )\n\u001b[0;32m    398\u001b[0m     ipython_display\u001b[39m.\u001b[39mdisplay(bundle, raw\u001b[39m=\u001b[39m\u001b[39mTrue\u001b[39;00m)\n\u001b[0;32m    400\u001b[0m \u001b[39m# external renderers\u001b[39;00m\n",
      "\u001b[1;31mValueError\u001b[0m: Mime type rendering requires nbformat>=4.2.0 but it is not installed"
     ]
    }
   ],
   "source": [
    "france.iplot(kind='line', xTitle='Country', title='Totales y Beneficios')"
   ]
  },
  {
   "cell_type": "markdown",
   "metadata": {},
   "source": [
    "## 3. Create an interactive scatter plot showing the relationship between average quantity (x-axis) and average unit price (y-axis) for the product PARTY BUNTING with the plot points color-coded by country (categories)."
   ]
  },
  {
   "cell_type": "code",
   "execution_count": 47,
   "metadata": {},
   "outputs": [
    {
     "data": {
      "text/html": [
       "<div>\n",
       "<style scoped>\n",
       "    .dataframe tbody tr th:only-of-type {\n",
       "        vertical-align: middle;\n",
       "    }\n",
       "\n",
       "    .dataframe tbody tr th {\n",
       "        vertical-align: top;\n",
       "    }\n",
       "\n",
       "    .dataframe thead th {\n",
       "        text-align: right;\n",
       "    }\n",
       "</style>\n",
       "<table border=\"1\" class=\"dataframe\">\n",
       "  <thead>\n",
       "    <tr style=\"text-align: right;\">\n",
       "      <th></th>\n",
       "      <th>Country</th>\n",
       "      <th>Quantity</th>\n",
       "      <th>UnitPrice</th>\n",
       "    </tr>\n",
       "  </thead>\n",
       "  <tbody>\n",
       "    <tr>\n",
       "      <th>0</th>\n",
       "      <td>Australia</td>\n",
       "      <td>33.125000</td>\n",
       "      <td>4.7125</td>\n",
       "    </tr>\n",
       "    <tr>\n",
       "      <th>1</th>\n",
       "      <td>Austria</td>\n",
       "      <td>8.000000</td>\n",
       "      <td>4.9500</td>\n",
       "    </tr>\n",
       "    <tr>\n",
       "      <th>2</th>\n",
       "      <td>Belgium</td>\n",
       "      <td>4.000000</td>\n",
       "      <td>4.9500</td>\n",
       "    </tr>\n",
       "    <tr>\n",
       "      <th>3</th>\n",
       "      <td>Channel Islands</td>\n",
       "      <td>13.333333</td>\n",
       "      <td>4.9500</td>\n",
       "    </tr>\n",
       "    <tr>\n",
       "      <th>4</th>\n",
       "      <td>Cyprus</td>\n",
       "      <td>2.333333</td>\n",
       "      <td>4.7500</td>\n",
       "    </tr>\n",
       "  </tbody>\n",
       "</table>\n",
       "</div>"
      ],
      "text/plain": [
       "           Country   Quantity  UnitPrice\n",
       "0        Australia  33.125000     4.7125\n",
       "1          Austria   8.000000     4.9500\n",
       "2          Belgium   4.000000     4.9500\n",
       "3  Channel Islands  13.333333     4.9500\n",
       "4           Cyprus   2.333333     4.7500"
      ]
     },
     "execution_count": 47,
     "metadata": {},
     "output_type": "execute_result"
    }
   ],
   "source": [
    "party = df.loc[df.Description=='PARTY BUNTING']\n",
    "party = party.groupby('Country').mean(numeric_only=True)\n",
    "party = party[['Quantity', 'UnitPrice']]\n",
    "party.reset_index(inplace=True)\n",
    "party.head()"
   ]
  },
  {
   "cell_type": "code",
   "execution_count": 49,
   "metadata": {},
   "outputs": [
    {
     "ename": "AttributeError",
     "evalue": "module 'pandas' has no attribute 'np'",
     "output_type": "error",
     "traceback": [
      "\u001b[1;31m---------------------------------------------------------------------------\u001b[0m",
      "\u001b[1;31mAttributeError\u001b[0m                            Traceback (most recent call last)",
      "\u001b[1;32mc:\\Users\\blanx\\ironhack\\labs_clase\\semana_5\\dia_2\\5.2-lab_interactive_visualization_blanca\\your-code\\main.ipynb Celda 14\u001b[0m line \u001b[0;36m1\n\u001b[1;32m----> <a href='vscode-notebook-cell:/c%3A/Users/blanx/ironhack/labs_clase/semana_5/dia_2/5.2-lab_interactive_visualization_blanca/your-code/main.ipynb#X20sZmlsZQ%3D%3D?line=0'>1</a>\u001b[0m party\u001b[39m.\u001b[39;49miplot(x\u001b[39m=\u001b[39;49m\u001b[39m'\u001b[39;49m\u001b[39mQuantity\u001b[39;49m\u001b[39m'\u001b[39;49m, \n\u001b[0;32m      <a href='vscode-notebook-cell:/c%3A/Users/blanx/ironhack/labs_clase/semana_5/dia_2/5.2-lab_interactive_visualization_blanca/your-code/main.ipynb#X20sZmlsZQ%3D%3D?line=1'>2</a>\u001b[0m            y\u001b[39m=\u001b[39;49m\u001b[39m'\u001b[39;49m\u001b[39mUnitPrice\u001b[39;49m\u001b[39m'\u001b[39;49m, \n\u001b[0;32m      <a href='vscode-notebook-cell:/c%3A/Users/blanx/ironhack/labs_clase/semana_5/dia_2/5.2-lab_interactive_visualization_blanca/your-code/main.ipynb#X20sZmlsZQ%3D%3D?line=2'>3</a>\u001b[0m            categories\u001b[39m=\u001b[39;49m\u001b[39m'\u001b[39;49m\u001b[39mCountry\u001b[39;49m\u001b[39m'\u001b[39;49m,\n\u001b[0;32m      <a href='vscode-notebook-cell:/c%3A/Users/blanx/ironhack/labs_clase/semana_5/dia_2/5.2-lab_interactive_visualization_blanca/your-code/main.ipynb#X20sZmlsZQ%3D%3D?line=3'>4</a>\u001b[0m            xTitle\u001b[39m=\u001b[39;49m\u001b[39m'\u001b[39;49m\u001b[39mAverage Quantity\u001b[39;49m\u001b[39m'\u001b[39;49m, \n\u001b[0;32m      <a href='vscode-notebook-cell:/c%3A/Users/blanx/ironhack/labs_clase/semana_5/dia_2/5.2-lab_interactive_visualization_blanca/your-code/main.ipynb#X20sZmlsZQ%3D%3D?line=4'>5</a>\u001b[0m            yTitle\u001b[39m=\u001b[39;49m\u001b[39m'\u001b[39;49m\u001b[39mAverage unit price\u001b[39;49m\u001b[39m'\u001b[39;49m,\n\u001b[0;32m      <a href='vscode-notebook-cell:/c%3A/Users/blanx/ironhack/labs_clase/semana_5/dia_2/5.2-lab_interactive_visualization_blanca/your-code/main.ipynb#X20sZmlsZQ%3D%3D?line=5'>6</a>\u001b[0m            color\u001b[39m=\u001b[39;49m\u001b[39m'\u001b[39;49m\u001b[39mred\u001b[39;49m\u001b[39m'\u001b[39;49m, \n\u001b[0;32m      <a href='vscode-notebook-cell:/c%3A/Users/blanx/ironhack/labs_clase/semana_5/dia_2/5.2-lab_interactive_visualization_blanca/your-code/main.ipynb#X20sZmlsZQ%3D%3D?line=6'>7</a>\u001b[0m            title\u001b[39m=\u001b[39;49m\u001b[39m'\u001b[39;49m\u001b[39mAverage by Country\u001b[39;49m\u001b[39m'\u001b[39;49m)\n\u001b[0;32m      <a href='vscode-notebook-cell:/c%3A/Users/blanx/ironhack/labs_clase/semana_5/dia_2/5.2-lab_interactive_visualization_blanca/your-code/main.ipynb#X20sZmlsZQ%3D%3D?line=7'>8</a>\u001b[0m (\u001b[39m\"\u001b[39m\u001b[39m\"\u001b[39m)\n",
      "File \u001b[1;32mc:\\Users\\blanx\\AppData\\Local\\Programs\\Python\\Python311\\Lib\\site-packages\\cufflinks\\plotlytools.py:807\u001b[0m, in \u001b[0;36m_iplot\u001b[1;34m(self, kind, data, layout, filename, sharing, title, xTitle, yTitle, zTitle, theme, colors, colorscale, fill, width, dash, mode, interpolation, symbol, size, barmode, sortbars, bargap, bargroupgap, bins, histnorm, histfunc, orientation, boxpoints, annotations, keys, bestfit, bestfit_colors, mean, mean_colors, categories, x, y, z, text, gridcolor, zerolinecolor, margin, labels, values, secondary_y, secondary_y_title, subplots, shape, error_x, error_y, error_type, locations, lon, lat, asFrame, asDates, asFigure, asImage, dimensions, asPlot, asUrl, online, **kwargs)\u001b[0m\n\u001b[0;32m    802\u001b[0m \t_data\u001b[39m=\u001b[39mScatter3d(x\u001b[39m=\u001b[39m_x,y\u001b[39m=\u001b[39m_y,z\u001b[39m=\u001b[39m_z,mode\u001b[39m=\u001b[39mmode,name\u001b[39m=\u001b[39m_,\n\u001b[0;32m    803\u001b[0m \t\t\tmarker\u001b[39m=\u001b[39m\u001b[39mdict\u001b[39m(color\u001b[39m=\u001b[39mcolors[_],symbol\u001b[39m=\u001b[39msymbol,size\u001b[39m=\u001b[39m_size,opacity\u001b[39m=\u001b[39mopacity,\n\u001b[0;32m    804\u001b[0m \t\t\t\t\t\t\tline\u001b[39m=\u001b[39m\u001b[39mdict\u001b[39m(width\u001b[39m=\u001b[39mwidth)),textfont\u001b[39m=\u001b[39mtools\u001b[39m.\u001b[39mgetLayout(theme\u001b[39m=\u001b[39mtheme)[\u001b[39m'\u001b[39m\u001b[39mxaxis\u001b[39m\u001b[39m'\u001b[39m][\u001b[39m'\u001b[39m\u001b[39mtitlefont\u001b[39m\u001b[39m'\u001b[39m])\n\u001b[0;32m    805\u001b[0m \u001b[39melse\u001b[39;00m:\n\u001b[0;32m    806\u001b[0m \t\u001b[39m#see error 168\u001b[39;00m\n\u001b[1;32m--> 807\u001b[0m \t\u001b[39mif\u001b[39;00m \u001b[39mtype\u001b[39m(_x)\u001b[39m==\u001b[39mpd\u001b[39m.\u001b[39;49mnp\u001b[39m.\u001b[39mndarray:\n\u001b[0;32m    808\u001b[0m \t\t\u001b[39mif\u001b[39;00m \u001b[39m'\u001b[39m\u001b[39m[ns]\u001b[39m\u001b[39m'\u001b[39m \u001b[39min\u001b[39;00m _x\u001b[39m.\u001b[39mdtype\u001b[39m.\u001b[39mstr:\n\u001b[0;32m    809\u001b[0m \t\t\t_x\u001b[39m=\u001b[39m_x\u001b[39m.\u001b[39mastype(\u001b[39mstr\u001b[39m)\n",
      "\u001b[1;31mAttributeError\u001b[0m: module 'pandas' has no attribute 'np'"
     ]
    }
   ],
   "source": [
    "party.iplot(x='Quantity', \n",
    "           y='UnitPrice', \n",
    "           categories='Country',\n",
    "           xTitle='Average Quantity', \n",
    "           yTitle='Average unit price',\n",
    "           color='red', \n",
    "           title='Average by Country')\n",
    ";"
   ]
  },
  {
   "cell_type": "markdown",
   "metadata": {},
   "source": [
    "## 4. Create a set of interactive histograms showing the distributions of quantity per invoice for the following countries: EIRE, Germany, France, and Netherlands."
   ]
  },
  {
   "cell_type": "code",
   "execution_count": 51,
   "metadata": {},
   "outputs": [
    {
     "ename": "ValueError",
     "evalue": "Mime type rendering requires nbformat>=4.2.0 but it is not installed",
     "output_type": "error",
     "traceback": [
      "\u001b[1;31m---------------------------------------------------------------------------\u001b[0m",
      "\u001b[1;31mValueError\u001b[0m                                Traceback (most recent call last)",
      "\u001b[1;32mc:\\Users\\blanx\\ironhack\\labs_clase\\semana_5\\dia_2\\5.2-lab_interactive_visualization_blanca\\your-code\\main.ipynb Celda 16\u001b[0m line \u001b[0;36m1\n\u001b[0;32m      <a href='vscode-notebook-cell:/c%3A/Users/blanx/ironhack/labs_clase/semana_5/dia_2/5.2-lab_interactive_visualization_blanca/your-code/main.ipynb#X22sZmlsZQ%3D%3D?line=3'>4</a>\u001b[0m fig \u001b[39m=\u001b[39m px\u001b[39m.\u001b[39mhistogram(filtro, x\u001b[39m=\u001b[39m\u001b[39m'\u001b[39m\u001b[39mQuantity\u001b[39m\u001b[39m'\u001b[39m, color\u001b[39m=\u001b[39m\u001b[39m'\u001b[39m\u001b[39mCountry\u001b[39m\u001b[39m'\u001b[39m, marginal\u001b[39m=\u001b[39m\u001b[39m'\u001b[39m\u001b[39mrug\u001b[39m\u001b[39m'\u001b[39m,\n\u001b[0;32m      <a href='vscode-notebook-cell:/c%3A/Users/blanx/ironhack/labs_clase/semana_5/dia_2/5.2-lab_interactive_visualization_blanca/your-code/main.ipynb#X22sZmlsZQ%3D%3D?line=4'>5</a>\u001b[0m                    labels\u001b[39m=\u001b[39m{\u001b[39m'\u001b[39m\u001b[39mQuantity\u001b[39m\u001b[39m'\u001b[39m: \u001b[39m'\u001b[39m\u001b[39mQuantity per Invoice\u001b[39m\u001b[39m'\u001b[39m},\n\u001b[0;32m      <a href='vscode-notebook-cell:/c%3A/Users/blanx/ironhack/labs_clase/semana_5/dia_2/5.2-lab_interactive_visualization_blanca/your-code/main.ipynb#X22sZmlsZQ%3D%3D?line=5'>6</a>\u001b[0m                    title\u001b[39m=\u001b[39m\u001b[39m'\u001b[39m\u001b[39mDistribution of Quantity per Invoice by Country\u001b[39m\u001b[39m'\u001b[39m,\n\u001b[0;32m      <a href='vscode-notebook-cell:/c%3A/Users/blanx/ironhack/labs_clase/semana_5/dia_2/5.2-lab_interactive_visualization_blanca/your-code/main.ipynb#X22sZmlsZQ%3D%3D?line=6'>7</a>\u001b[0m                    nbins\u001b[39m=\u001b[39m\u001b[39m50\u001b[39m, opacity\u001b[39m=\u001b[39m\u001b[39m0.7\u001b[39m)\n\u001b[0;32m      <a href='vscode-notebook-cell:/c%3A/Users/blanx/ironhack/labs_clase/semana_5/dia_2/5.2-lab_interactive_visualization_blanca/your-code/main.ipynb#X22sZmlsZQ%3D%3D?line=8'>9</a>\u001b[0m fig\u001b[39m.\u001b[39mupdate_layout(barmode\u001b[39m=\u001b[39m\u001b[39m'\u001b[39m\u001b[39moverlay\u001b[39m\u001b[39m'\u001b[39m, showlegend\u001b[39m=\u001b[39m\u001b[39mTrue\u001b[39;00m)\n\u001b[1;32m---> <a href='vscode-notebook-cell:/c%3A/Users/blanx/ironhack/labs_clase/semana_5/dia_2/5.2-lab_interactive_visualization_blanca/your-code/main.ipynb#X22sZmlsZQ%3D%3D?line=10'>11</a>\u001b[0m fig\u001b[39m.\u001b[39;49mshow()\n",
      "File \u001b[1;32mc:\\Users\\blanx\\AppData\\Local\\Programs\\Python\\Python311\\Lib\\site-packages\\plotly\\basedatatypes.py:3410\u001b[0m, in \u001b[0;36mBaseFigure.show\u001b[1;34m(self, *args, **kwargs)\u001b[0m\n\u001b[0;32m   3377\u001b[0m \u001b[39m\u001b[39m\u001b[39m\"\"\"\u001b[39;00m\n\u001b[0;32m   3378\u001b[0m \u001b[39mShow a figure using either the default renderer(s) or the renderer(s)\u001b[39;00m\n\u001b[0;32m   3379\u001b[0m \u001b[39mspecified by the renderer argument\u001b[39;00m\n\u001b[1;32m   (...)\u001b[0m\n\u001b[0;32m   3406\u001b[0m \u001b[39mNone\u001b[39;00m\n\u001b[0;32m   3407\u001b[0m \u001b[39m\"\"\"\u001b[39;00m\n\u001b[0;32m   3408\u001b[0m \u001b[39mimport\u001b[39;00m \u001b[39mplotly\u001b[39;00m\u001b[39m.\u001b[39;00m\u001b[39mio\u001b[39;00m \u001b[39mas\u001b[39;00m \u001b[39mpio\u001b[39;00m\n\u001b[1;32m-> 3410\u001b[0m \u001b[39mreturn\u001b[39;00m pio\u001b[39m.\u001b[39;49mshow(\u001b[39mself\u001b[39;49m, \u001b[39m*\u001b[39;49margs, \u001b[39m*\u001b[39;49m\u001b[39m*\u001b[39;49mkwargs)\n",
      "File \u001b[1;32mc:\\Users\\blanx\\AppData\\Local\\Programs\\Python\\Python311\\Lib\\site-packages\\plotly\\io\\_renderers.py:394\u001b[0m, in \u001b[0;36mshow\u001b[1;34m(fig, renderer, validate, **kwargs)\u001b[0m\n\u001b[0;32m    389\u001b[0m         \u001b[39mraise\u001b[39;00m \u001b[39mValueError\u001b[39;00m(\n\u001b[0;32m    390\u001b[0m             \u001b[39m\"\u001b[39m\u001b[39mMime type rendering requires ipython but it is not installed\u001b[39m\u001b[39m\"\u001b[39m\n\u001b[0;32m    391\u001b[0m         )\n\u001b[0;32m    393\u001b[0m     \u001b[39mif\u001b[39;00m \u001b[39mnot\u001b[39;00m nbformat \u001b[39mor\u001b[39;00m Version(nbformat\u001b[39m.\u001b[39m__version__) \u001b[39m<\u001b[39m Version(\u001b[39m\"\u001b[39m\u001b[39m4.2.0\u001b[39m\u001b[39m\"\u001b[39m):\n\u001b[1;32m--> 394\u001b[0m         \u001b[39mraise\u001b[39;00m \u001b[39mValueError\u001b[39;00m(\n\u001b[0;32m    395\u001b[0m             \u001b[39m\"\u001b[39m\u001b[39mMime type rendering requires nbformat>=4.2.0 but it is not installed\u001b[39m\u001b[39m\"\u001b[39m\n\u001b[0;32m    396\u001b[0m         )\n\u001b[0;32m    398\u001b[0m     ipython_display\u001b[39m.\u001b[39mdisplay(bundle, raw\u001b[39m=\u001b[39m\u001b[39mTrue\u001b[39;00m)\n\u001b[0;32m    400\u001b[0m \u001b[39m# external renderers\u001b[39;00m\n",
      "\u001b[1;31mValueError\u001b[0m: Mime type rendering requires nbformat>=4.2.0 but it is not installed"
     ]
    }
   ],
   "source": [
    "paises = ['EIRE', 'Germany', 'France', 'Netherlands']\n",
    "filtro = df[(df['Country'].isin(paises)) & (df['Quantity'] > 0)]\n",
    "\n",
    "fig = px.histogram(filtro, x='Quantity', color='Country', marginal='rug',\n",
    "                   labels={'Quantity': 'Quantity per Invoice'},\n",
    "                   title='Distribution of Quantity per Invoice by Country',\n",
    "                   nbins=50, opacity=0.7)\n",
    "\n",
    "fig.update_layout(barmode='overlay', showlegend=True)\n",
    "\n",
    "fig.show()"
   ]
  },
  {
   "cell_type": "markdown",
   "metadata": {},
   "source": [
    "## 5. Create an interactive side-by-side bar chart showing the revenue by country listed below (bars) for each of the products listed below."
   ]
  },
  {
   "cell_type": "code",
   "execution_count": null,
   "metadata": {},
   "outputs": [],
   "source": [
    "# hay que quitar uk xq es un outlier, xq es demasiado grande"
   ]
  },
  {
   "cell_type": "code",
   "execution_count": 53,
   "metadata": {},
   "outputs": [
    {
     "ename": "ValueError",
     "evalue": "Mime type rendering requires nbformat>=4.2.0 but it is not installed",
     "output_type": "error",
     "traceback": [
      "\u001b[1;31m---------------------------------------------------------------------------\u001b[0m",
      "\u001b[1;31mValueError\u001b[0m                                Traceback (most recent call last)",
      "\u001b[1;32mc:\\Users\\blanx\\ironhack\\labs_clase\\semana_5\\dia_2\\5.2-lab_interactive_visualization_blanca\\your-code\\main.ipynb Celda 19\u001b[0m line \u001b[0;36m2\n\u001b[0;32m     <a href='vscode-notebook-cell:/c%3A/Users/blanx/ironhack/labs_clase/semana_5/dia_2/5.2-lab_interactive_visualization_blanca/your-code/main.ipynb#X31sZmlsZQ%3D%3D?line=11'>12</a>\u001b[0m data\u001b[39m=\u001b[39mdata\u001b[39m.\u001b[39mpivot_table(values\u001b[39m=\u001b[39m\u001b[39m'\u001b[39m\u001b[39mRevenue\u001b[39m\u001b[39m'\u001b[39m, \n\u001b[0;32m     <a href='vscode-notebook-cell:/c%3A/Users/blanx/ironhack/labs_clase/semana_5/dia_2/5.2-lab_interactive_visualization_blanca/your-code/main.ipynb#X31sZmlsZQ%3D%3D?line=12'>13</a>\u001b[0m                       columns\u001b[39m=\u001b[39m\u001b[39m'\u001b[39m\u001b[39mDescription\u001b[39m\u001b[39m'\u001b[39m,\n\u001b[0;32m     <a href='vscode-notebook-cell:/c%3A/Users/blanx/ironhack/labs_clase/semana_5/dia_2/5.2-lab_interactive_visualization_blanca/your-code/main.ipynb#X31sZmlsZQ%3D%3D?line=13'>14</a>\u001b[0m                       index\u001b[39m=\u001b[39m\u001b[39m'\u001b[39m\u001b[39mCountry\u001b[39m\u001b[39m'\u001b[39m, \n\u001b[0;32m     <a href='vscode-notebook-cell:/c%3A/Users/blanx/ironhack/labs_clase/semana_5/dia_2/5.2-lab_interactive_visualization_blanca/your-code/main.ipynb#X31sZmlsZQ%3D%3D?line=14'>15</a>\u001b[0m                       aggfunc\u001b[39m=\u001b[39m\u001b[39m'\u001b[39m\u001b[39msum\u001b[39m\u001b[39m'\u001b[39m)\n\u001b[0;32m     <a href='vscode-notebook-cell:/c%3A/Users/blanx/ironhack/labs_clase/semana_5/dia_2/5.2-lab_interactive_visualization_blanca/your-code/main.ipynb#X31sZmlsZQ%3D%3D?line=16'>17</a>\u001b[0m data\u001b[39m.\u001b[39mreset_index(inplace\u001b[39m=\u001b[39m\u001b[39mTrue\u001b[39;00m)\n\u001b[1;32m---> <a href='vscode-notebook-cell:/c%3A/Users/blanx/ironhack/labs_clase/semana_5/dia_2/5.2-lab_interactive_visualization_blanca/your-code/main.ipynb#X31sZmlsZQ%3D%3D?line=19'>20</a>\u001b[0m data\u001b[39m.\u001b[39;49miplot(kind\u001b[39m=\u001b[39;49m\u001b[39m'\u001b[39;49m\u001b[39mbar\u001b[39;49m\u001b[39m'\u001b[39;49m, \n\u001b[0;32m     <a href='vscode-notebook-cell:/c%3A/Users/blanx/ironhack/labs_clase/semana_5/dia_2/5.2-lab_interactive_visualization_blanca/your-code/main.ipynb#X31sZmlsZQ%3D%3D?line=20'>21</a>\u001b[0m            x\u001b[39m=\u001b[39;49m\u001b[39m'\u001b[39;49m\u001b[39mCountry\u001b[39;49m\u001b[39m'\u001b[39;49m, \n\u001b[0;32m     <a href='vscode-notebook-cell:/c%3A/Users/blanx/ironhack/labs_clase/semana_5/dia_2/5.2-lab_interactive_visualization_blanca/your-code/main.ipynb#X31sZmlsZQ%3D%3D?line=21'>22</a>\u001b[0m            title\u001b[39m=\u001b[39;49m\u001b[39m'\u001b[39;49m\u001b[39mRevenue by Country\u001b[39;49m\u001b[39m'\u001b[39;49m,\n\u001b[0;32m     <a href='vscode-notebook-cell:/c%3A/Users/blanx/ironhack/labs_clase/semana_5/dia_2/5.2-lab_interactive_visualization_blanca/your-code/main.ipynb#X31sZmlsZQ%3D%3D?line=22'>23</a>\u001b[0m            xTitle\u001b[39m=\u001b[39;49m\u001b[39m'\u001b[39;49m\u001b[39mCountry\u001b[39;49m\u001b[39m'\u001b[39;49m, \n\u001b[0;32m     <a href='vscode-notebook-cell:/c%3A/Users/blanx/ironhack/labs_clase/semana_5/dia_2/5.2-lab_interactive_visualization_blanca/your-code/main.ipynb#X31sZmlsZQ%3D%3D?line=23'>24</a>\u001b[0m            yTitle\u001b[39m=\u001b[39;49m\u001b[39m'\u001b[39;49m\u001b[39mRevenue\u001b[39;49m\u001b[39m'\u001b[39;49m)\n",
      "File \u001b[1;32mc:\\Users\\blanx\\AppData\\Local\\Programs\\Python\\Python311\\Lib\\site-packages\\cufflinks\\plotlytools.py:1216\u001b[0m, in \u001b[0;36m_iplot\u001b[1;34m(self, kind, data, layout, filename, sharing, title, xTitle, yTitle, zTitle, theme, colors, colorscale, fill, width, dash, mode, interpolation, symbol, size, barmode, sortbars, bargap, bargroupgap, bins, histnorm, histfunc, orientation, boxpoints, annotations, keys, bestfit, bestfit_colors, mean, mean_colors, categories, x, y, z, text, gridcolor, zerolinecolor, margin, labels, values, secondary_y, secondary_y_title, subplots, shape, error_x, error_y, error_type, locations, lon, lat, asFrame, asDates, asFigure, asImage, dimensions, asPlot, asUrl, online, **kwargs)\u001b[0m\n\u001b[0;32m   1214\u001b[0m \t\u001b[39mreturn\u001b[39;00m Figure(figure)\n\u001b[0;32m   1215\u001b[0m \u001b[39melse\u001b[39;00m:\n\u001b[1;32m-> 1216\u001b[0m \t\u001b[39mreturn\u001b[39;00m iplot(figure,validate\u001b[39m=\u001b[39;49mvalidate,sharing\u001b[39m=\u001b[39;49msharing,filename\u001b[39m=\u001b[39;49mfilename,\n\u001b[0;32m   1217\u001b[0m \t\t online\u001b[39m=\u001b[39;49monline,asImage\u001b[39m=\u001b[39;49masImage,asUrl\u001b[39m=\u001b[39;49masUrl,asPlot\u001b[39m=\u001b[39;49masPlot,\n\u001b[0;32m   1218\u001b[0m \t\t dimensions\u001b[39m=\u001b[39;49mdimensions,display_image\u001b[39m=\u001b[39;49mkwargs\u001b[39m.\u001b[39;49mget(\u001b[39m'\u001b[39;49m\u001b[39mdisplay_image\u001b[39;49m\u001b[39m'\u001b[39;49m,\u001b[39mTrue\u001b[39;49;00m))\n",
      "File \u001b[1;32mc:\\Users\\blanx\\AppData\\Local\\Programs\\Python\\Python311\\Lib\\site-packages\\cufflinks\\plotlytools.py:1468\u001b[0m, in \u001b[0;36miplot\u001b[1;34m(figure, validate, sharing, filename, online, asImage, asUrl, asPlot, dimensions, display_image, **kwargs)\u001b[0m\n\u001b[0;32m   1466\u001b[0m \u001b[39m## iplot\u001b[39;00m\n\u001b[0;32m   1467\u001b[0m \u001b[39mif\u001b[39;00m offline\u001b[39m.\u001b[39mis_offline() \u001b[39mand\u001b[39;00m \u001b[39mnot\u001b[39;00m online:\t\n\u001b[1;32m-> 1468\u001b[0m \t\u001b[39mreturn\u001b[39;00m offline\u001b[39m.\u001b[39;49mpy_offline\u001b[39m.\u001b[39;49miplot(figure, validate\u001b[39m=\u001b[39;49mvalidate, filename\u001b[39m=\u001b[39;49mfilename, show_link\u001b[39m=\u001b[39;49mshow_link, link_text\u001b[39m=\u001b[39;49mlink_text, config\u001b[39m=\u001b[39;49mconfig)\n\u001b[0;32m   1469\u001b[0m \u001b[39melse\u001b[39;00m:\t\t\n\u001b[0;32m   1470\u001b[0m \t\u001b[39mreturn\u001b[39;00m py\u001b[39m.\u001b[39miplot(figure,validate\u001b[39m=\u001b[39mvalidate,sharing\u001b[39m=\u001b[39msharing,\n\u001b[0;32m   1471\u001b[0m \t\t\t\t\tfilename\u001b[39m=\u001b[39mfilename)\n",
      "File \u001b[1;32mc:\\Users\\blanx\\AppData\\Local\\Programs\\Python\\Python311\\Lib\\site-packages\\plotly\\offline\\offline.py:387\u001b[0m, in \u001b[0;36miplot\u001b[1;34m(figure_or_data, show_link, link_text, validate, image, filename, image_width, image_height, config, auto_play, animation_opts)\u001b[0m\n\u001b[0;32m    382\u001b[0m post_script \u001b[39m=\u001b[39m build_save_image_post_script(\n\u001b[0;32m    383\u001b[0m     image, filename, image_height, image_width, \u001b[39m\"\u001b[39m\u001b[39miplot\u001b[39m\u001b[39m\"\u001b[39m\n\u001b[0;32m    384\u001b[0m )\n\u001b[0;32m    386\u001b[0m \u001b[39m# Show figure\u001b[39;00m\n\u001b[1;32m--> 387\u001b[0m pio\u001b[39m.\u001b[39;49mshow(\n\u001b[0;32m    388\u001b[0m     figure,\n\u001b[0;32m    389\u001b[0m     validate\u001b[39m=\u001b[39;49mvalidate,\n\u001b[0;32m    390\u001b[0m     config\u001b[39m=\u001b[39;49mconfig,\n\u001b[0;32m    391\u001b[0m     auto_play\u001b[39m=\u001b[39;49mauto_play,\n\u001b[0;32m    392\u001b[0m     post_script\u001b[39m=\u001b[39;49mpost_script,\n\u001b[0;32m    393\u001b[0m     animation_opts\u001b[39m=\u001b[39;49manimation_opts,\n\u001b[0;32m    394\u001b[0m )\n",
      "File \u001b[1;32mc:\\Users\\blanx\\AppData\\Local\\Programs\\Python\\Python311\\Lib\\site-packages\\plotly\\io\\_renderers.py:394\u001b[0m, in \u001b[0;36mshow\u001b[1;34m(fig, renderer, validate, **kwargs)\u001b[0m\n\u001b[0;32m    389\u001b[0m         \u001b[39mraise\u001b[39;00m \u001b[39mValueError\u001b[39;00m(\n\u001b[0;32m    390\u001b[0m             \u001b[39m\"\u001b[39m\u001b[39mMime type rendering requires ipython but it is not installed\u001b[39m\u001b[39m\"\u001b[39m\n\u001b[0;32m    391\u001b[0m         )\n\u001b[0;32m    393\u001b[0m     \u001b[39mif\u001b[39;00m \u001b[39mnot\u001b[39;00m nbformat \u001b[39mor\u001b[39;00m Version(nbformat\u001b[39m.\u001b[39m__version__) \u001b[39m<\u001b[39m Version(\u001b[39m\"\u001b[39m\u001b[39m4.2.0\u001b[39m\u001b[39m\"\u001b[39m):\n\u001b[1;32m--> 394\u001b[0m         \u001b[39mraise\u001b[39;00m \u001b[39mValueError\u001b[39;00m(\n\u001b[0;32m    395\u001b[0m             \u001b[39m\"\u001b[39m\u001b[39mMime type rendering requires nbformat>=4.2.0 but it is not installed\u001b[39m\u001b[39m\"\u001b[39m\n\u001b[0;32m    396\u001b[0m         )\n\u001b[0;32m    398\u001b[0m     ipython_display\u001b[39m.\u001b[39mdisplay(bundle, raw\u001b[39m=\u001b[39m\u001b[39mTrue\u001b[39;00m)\n\u001b[0;32m    400\u001b[0m \u001b[39m# external renderers\u001b[39;00m\n",
      "\u001b[1;31mValueError\u001b[0m: Mime type rendering requires nbformat>=4.2.0 but it is not installed"
     ]
    }
   ],
   "source": [
    "plst=['JUMBO BAG RED RETROSPOT', \n",
    "          'CREAM HANGING HEART T-LIGHT HOLDER',\n",
    "          'REGENCY CAKESTAND 3 TIER']\n",
    "\n",
    "clst=['EIRE', 'Germany', 'France', 'Netherlands']\n",
    "\n",
    "data=df.loc[df.Description.isin(plst)]\n",
    "data=data.loc[data.Country.isin(clst)]\n",
    "\n",
    "data=data.pivot_table(values='Revenue', \n",
    "                      columns='Description',\n",
    "                      index='Country', \n",
    "                      aggfunc='sum')\n",
    "\n",
    "data.reset_index(inplace=True)\n",
    "\n",
    "data.iplot(kind='bar', \n",
    "           x='Country', \n",
    "           title='Revenue by Country',\n",
    "           xTitle='Country', \n",
    "           yTitle='Revenue')"
   ]
  },
  {
   "cell_type": "markdown",
   "metadata": {},
   "source": [
    "## 6. Create an interactive line chart showing quantity sold by day for the United Kingdom. Add drop-down boxes for Year and Month that allow you to filter the date range that appears in the chart."
   ]
  },
  {
   "cell_type": "code",
   "execution_count": 55,
   "metadata": {},
   "outputs": [],
   "source": [
    "import plotly.graph_objs as go"
   ]
  },
  {
   "cell_type": "code",
   "execution_count": 57,
   "metadata": {},
   "outputs": [
    {
     "ename": "ValueError",
     "evalue": "Mime type rendering requires nbformat>=4.2.0 but it is not installed",
     "output_type": "error",
     "traceback": [
      "\u001b[1;31m---------------------------------------------------------------------------\u001b[0m",
      "\u001b[1;31mValueError\u001b[0m                                Traceback (most recent call last)",
      "File \u001b[1;32m~\\AppData\\Roaming\\Python\\Python311\\site-packages\\IPython\\core\\formatters.py:922\u001b[0m, in \u001b[0;36mIPythonDisplayFormatter.__call__\u001b[1;34m(self, obj)\u001b[0m\n\u001b[0;32m    920\u001b[0m method \u001b[39m=\u001b[39m get_real_method(obj, \u001b[39mself\u001b[39m\u001b[39m.\u001b[39mprint_method)\n\u001b[0;32m    921\u001b[0m \u001b[39mif\u001b[39;00m method \u001b[39mis\u001b[39;00m \u001b[39mnot\u001b[39;00m \u001b[39mNone\u001b[39;00m:\n\u001b[1;32m--> 922\u001b[0m     method()\n\u001b[0;32m    923\u001b[0m     \u001b[39mreturn\u001b[39;00m \u001b[39mTrue\u001b[39;00m\n",
      "File \u001b[1;32mc:\\Users\\blanx\\AppData\\Local\\Programs\\Python\\Python311\\Lib\\site-packages\\plotly\\basedatatypes.py:832\u001b[0m, in \u001b[0;36mBaseFigure._ipython_display_\u001b[1;34m(self)\u001b[0m\n\u001b[0;32m    829\u001b[0m \u001b[39mimport\u001b[39;00m \u001b[39mplotly\u001b[39;00m\u001b[39m.\u001b[39;00m\u001b[39mio\u001b[39;00m \u001b[39mas\u001b[39;00m \u001b[39mpio\u001b[39;00m\n\u001b[0;32m    831\u001b[0m \u001b[39mif\u001b[39;00m pio\u001b[39m.\u001b[39mrenderers\u001b[39m.\u001b[39mrender_on_display \u001b[39mand\u001b[39;00m pio\u001b[39m.\u001b[39mrenderers\u001b[39m.\u001b[39mdefault:\n\u001b[1;32m--> 832\u001b[0m     pio\u001b[39m.\u001b[39;49mshow(\u001b[39mself\u001b[39;49m)\n\u001b[0;32m    833\u001b[0m \u001b[39melse\u001b[39;00m:\n\u001b[0;32m    834\u001b[0m     \u001b[39mprint\u001b[39m(\u001b[39mrepr\u001b[39m(\u001b[39mself\u001b[39m))\n",
      "File \u001b[1;32mc:\\Users\\blanx\\AppData\\Local\\Programs\\Python\\Python311\\Lib\\site-packages\\plotly\\io\\_renderers.py:394\u001b[0m, in \u001b[0;36mshow\u001b[1;34m(fig, renderer, validate, **kwargs)\u001b[0m\n\u001b[0;32m    389\u001b[0m         \u001b[39mraise\u001b[39;00m \u001b[39mValueError\u001b[39;00m(\n\u001b[0;32m    390\u001b[0m             \u001b[39m\"\u001b[39m\u001b[39mMime type rendering requires ipython but it is not installed\u001b[39m\u001b[39m\"\u001b[39m\n\u001b[0;32m    391\u001b[0m         )\n\u001b[0;32m    393\u001b[0m     \u001b[39mif\u001b[39;00m \u001b[39mnot\u001b[39;00m nbformat \u001b[39mor\u001b[39;00m Version(nbformat\u001b[39m.\u001b[39m__version__) \u001b[39m<\u001b[39m Version(\u001b[39m\"\u001b[39m\u001b[39m4.2.0\u001b[39m\u001b[39m\"\u001b[39m):\n\u001b[1;32m--> 394\u001b[0m         \u001b[39mraise\u001b[39;00m \u001b[39mValueError\u001b[39;00m(\n\u001b[0;32m    395\u001b[0m             \u001b[39m\"\u001b[39m\u001b[39mMime type rendering requires nbformat>=4.2.0 but it is not installed\u001b[39m\u001b[39m\"\u001b[39m\n\u001b[0;32m    396\u001b[0m         )\n\u001b[0;32m    398\u001b[0m     ipython_display\u001b[39m.\u001b[39mdisplay(bundle, raw\u001b[39m=\u001b[39m\u001b[39mTrue\u001b[39;00m)\n\u001b[0;32m    400\u001b[0m \u001b[39m# external renderers\u001b[39;00m\n",
      "\u001b[1;31mValueError\u001b[0m: Mime type rendering requires nbformat>=4.2.0 but it is not installed"
     ]
    },
    {
     "data": {
      "text/html": [
       "        <script type=\"text/javascript\">\n",
       "        window.PlotlyConfig = {MathJaxConfig: 'local'};\n",
       "        if (window.MathJax && window.MathJax.Hub && window.MathJax.Hub.Config) {window.MathJax.Hub.Config({SVG: {font: \"STIX-Web\"}});}\n",
       "        if (typeof require !== 'undefined') {\n",
       "        require.undef(\"plotly\");\n",
       "        requirejs.config({\n",
       "            paths: {\n",
       "                'plotly': ['https://cdn.plot.ly/plotly-2.27.0.min']\n",
       "            }\n",
       "        });\n",
       "        require(['plotly'], function(Plotly) {\n",
       "            window._Plotly = Plotly;\n",
       "        });\n",
       "        }\n",
       "        </script>\n",
       "        "
      ]
     },
     "metadata": {},
     "output_type": "display_data"
    },
    {
     "data": {
      "application/vnd.plotly.v1+json": {
       "config": {
        "plotlyServerURL": "https://plot.ly"
       },
       "data": [
        {
         "mode": "lines",
         "name": "Quantity Sold",
         "type": "scatter",
         "x": [
          "2010-12",
          "2011-01",
          "2011-02",
          "2011-03",
          "2011-04",
          "2011-05",
          "2011-06",
          "2011-07",
          "2011-08",
          "2011-09",
          "2011-10",
          "2011-11",
          "2011-12"
         ],
         "y": [
          267569,
          203995,
          213291,
          276218,
          260346,
          301803,
          280931,
          303500,
          310791,
          454016,
          475727,
          567319,
          178791
         ]
        }
       ],
       "layout": {
        "template": {
         "data": {
          "bar": [
           {
            "error_x": {
             "color": "#2a3f5f"
            },
            "error_y": {
             "color": "#2a3f5f"
            },
            "marker": {
             "line": {
              "color": "#E5ECF6",
              "width": 0.5
             },
             "pattern": {
              "fillmode": "overlay",
              "size": 10,
              "solidity": 0.2
             }
            },
            "type": "bar"
           }
          ],
          "barpolar": [
           {
            "marker": {
             "line": {
              "color": "#E5ECF6",
              "width": 0.5
             },
             "pattern": {
              "fillmode": "overlay",
              "size": 10,
              "solidity": 0.2
             }
            },
            "type": "barpolar"
           }
          ],
          "carpet": [
           {
            "aaxis": {
             "endlinecolor": "#2a3f5f",
             "gridcolor": "white",
             "linecolor": "white",
             "minorgridcolor": "white",
             "startlinecolor": "#2a3f5f"
            },
            "baxis": {
             "endlinecolor": "#2a3f5f",
             "gridcolor": "white",
             "linecolor": "white",
             "minorgridcolor": "white",
             "startlinecolor": "#2a3f5f"
            },
            "type": "carpet"
           }
          ],
          "choropleth": [
           {
            "colorbar": {
             "outlinewidth": 0,
             "ticks": ""
            },
            "type": "choropleth"
           }
          ],
          "contour": [
           {
            "colorbar": {
             "outlinewidth": 0,
             "ticks": ""
            },
            "colorscale": [
             [
              0,
              "#0d0887"
             ],
             [
              0.1111111111111111,
              "#46039f"
             ],
             [
              0.2222222222222222,
              "#7201a8"
             ],
             [
              0.3333333333333333,
              "#9c179e"
             ],
             [
              0.4444444444444444,
              "#bd3786"
             ],
             [
              0.5555555555555556,
              "#d8576b"
             ],
             [
              0.6666666666666666,
              "#ed7953"
             ],
             [
              0.7777777777777778,
              "#fb9f3a"
             ],
             [
              0.8888888888888888,
              "#fdca26"
             ],
             [
              1,
              "#f0f921"
             ]
            ],
            "type": "contour"
           }
          ],
          "contourcarpet": [
           {
            "colorbar": {
             "outlinewidth": 0,
             "ticks": ""
            },
            "type": "contourcarpet"
           }
          ],
          "heatmap": [
           {
            "colorbar": {
             "outlinewidth": 0,
             "ticks": ""
            },
            "colorscale": [
             [
              0,
              "#0d0887"
             ],
             [
              0.1111111111111111,
              "#46039f"
             ],
             [
              0.2222222222222222,
              "#7201a8"
             ],
             [
              0.3333333333333333,
              "#9c179e"
             ],
             [
              0.4444444444444444,
              "#bd3786"
             ],
             [
              0.5555555555555556,
              "#d8576b"
             ],
             [
              0.6666666666666666,
              "#ed7953"
             ],
             [
              0.7777777777777778,
              "#fb9f3a"
             ],
             [
              0.8888888888888888,
              "#fdca26"
             ],
             [
              1,
              "#f0f921"
             ]
            ],
            "type": "heatmap"
           }
          ],
          "heatmapgl": [
           {
            "colorbar": {
             "outlinewidth": 0,
             "ticks": ""
            },
            "colorscale": [
             [
              0,
              "#0d0887"
             ],
             [
              0.1111111111111111,
              "#46039f"
             ],
             [
              0.2222222222222222,
              "#7201a8"
             ],
             [
              0.3333333333333333,
              "#9c179e"
             ],
             [
              0.4444444444444444,
              "#bd3786"
             ],
             [
              0.5555555555555556,
              "#d8576b"
             ],
             [
              0.6666666666666666,
              "#ed7953"
             ],
             [
              0.7777777777777778,
              "#fb9f3a"
             ],
             [
              0.8888888888888888,
              "#fdca26"
             ],
             [
              1,
              "#f0f921"
             ]
            ],
            "type": "heatmapgl"
           }
          ],
          "histogram": [
           {
            "marker": {
             "pattern": {
              "fillmode": "overlay",
              "size": 10,
              "solidity": 0.2
             }
            },
            "type": "histogram"
           }
          ],
          "histogram2d": [
           {
            "colorbar": {
             "outlinewidth": 0,
             "ticks": ""
            },
            "colorscale": [
             [
              0,
              "#0d0887"
             ],
             [
              0.1111111111111111,
              "#46039f"
             ],
             [
              0.2222222222222222,
              "#7201a8"
             ],
             [
              0.3333333333333333,
              "#9c179e"
             ],
             [
              0.4444444444444444,
              "#bd3786"
             ],
             [
              0.5555555555555556,
              "#d8576b"
             ],
             [
              0.6666666666666666,
              "#ed7953"
             ],
             [
              0.7777777777777778,
              "#fb9f3a"
             ],
             [
              0.8888888888888888,
              "#fdca26"
             ],
             [
              1,
              "#f0f921"
             ]
            ],
            "type": "histogram2d"
           }
          ],
          "histogram2dcontour": [
           {
            "colorbar": {
             "outlinewidth": 0,
             "ticks": ""
            },
            "colorscale": [
             [
              0,
              "#0d0887"
             ],
             [
              0.1111111111111111,
              "#46039f"
             ],
             [
              0.2222222222222222,
              "#7201a8"
             ],
             [
              0.3333333333333333,
              "#9c179e"
             ],
             [
              0.4444444444444444,
              "#bd3786"
             ],
             [
              0.5555555555555556,
              "#d8576b"
             ],
             [
              0.6666666666666666,
              "#ed7953"
             ],
             [
              0.7777777777777778,
              "#fb9f3a"
             ],
             [
              0.8888888888888888,
              "#fdca26"
             ],
             [
              1,
              "#f0f921"
             ]
            ],
            "type": "histogram2dcontour"
           }
          ],
          "mesh3d": [
           {
            "colorbar": {
             "outlinewidth": 0,
             "ticks": ""
            },
            "type": "mesh3d"
           }
          ],
          "parcoords": [
           {
            "line": {
             "colorbar": {
              "outlinewidth": 0,
              "ticks": ""
             }
            },
            "type": "parcoords"
           }
          ],
          "pie": [
           {
            "automargin": true,
            "type": "pie"
           }
          ],
          "scatter": [
           {
            "fillpattern": {
             "fillmode": "overlay",
             "size": 10,
             "solidity": 0.2
            },
            "type": "scatter"
           }
          ],
          "scatter3d": [
           {
            "line": {
             "colorbar": {
              "outlinewidth": 0,
              "ticks": ""
             }
            },
            "marker": {
             "colorbar": {
              "outlinewidth": 0,
              "ticks": ""
             }
            },
            "type": "scatter3d"
           }
          ],
          "scattercarpet": [
           {
            "marker": {
             "colorbar": {
              "outlinewidth": 0,
              "ticks": ""
             }
            },
            "type": "scattercarpet"
           }
          ],
          "scattergeo": [
           {
            "marker": {
             "colorbar": {
              "outlinewidth": 0,
              "ticks": ""
             }
            },
            "type": "scattergeo"
           }
          ],
          "scattergl": [
           {
            "marker": {
             "colorbar": {
              "outlinewidth": 0,
              "ticks": ""
             }
            },
            "type": "scattergl"
           }
          ],
          "scattermapbox": [
           {
            "marker": {
             "colorbar": {
              "outlinewidth": 0,
              "ticks": ""
             }
            },
            "type": "scattermapbox"
           }
          ],
          "scatterpolar": [
           {
            "marker": {
             "colorbar": {
              "outlinewidth": 0,
              "ticks": ""
             }
            },
            "type": "scatterpolar"
           }
          ],
          "scatterpolargl": [
           {
            "marker": {
             "colorbar": {
              "outlinewidth": 0,
              "ticks": ""
             }
            },
            "type": "scatterpolargl"
           }
          ],
          "scatterternary": [
           {
            "marker": {
             "colorbar": {
              "outlinewidth": 0,
              "ticks": ""
             }
            },
            "type": "scatterternary"
           }
          ],
          "surface": [
           {
            "colorbar": {
             "outlinewidth": 0,
             "ticks": ""
            },
            "colorscale": [
             [
              0,
              "#0d0887"
             ],
             [
              0.1111111111111111,
              "#46039f"
             ],
             [
              0.2222222222222222,
              "#7201a8"
             ],
             [
              0.3333333333333333,
              "#9c179e"
             ],
             [
              0.4444444444444444,
              "#bd3786"
             ],
             [
              0.5555555555555556,
              "#d8576b"
             ],
             [
              0.6666666666666666,
              "#ed7953"
             ],
             [
              0.7777777777777778,
              "#fb9f3a"
             ],
             [
              0.8888888888888888,
              "#fdca26"
             ],
             [
              1,
              "#f0f921"
             ]
            ],
            "type": "surface"
           }
          ],
          "table": [
           {
            "cells": {
             "fill": {
              "color": "#EBF0F8"
             },
             "line": {
              "color": "white"
             }
            },
            "header": {
             "fill": {
              "color": "#C8D4E3"
             },
             "line": {
              "color": "white"
             }
            },
            "type": "table"
           }
          ]
         },
         "layout": {
          "annotationdefaults": {
           "arrowcolor": "#2a3f5f",
           "arrowhead": 0,
           "arrowwidth": 1
          },
          "autotypenumbers": "strict",
          "coloraxis": {
           "colorbar": {
            "outlinewidth": 0,
            "ticks": ""
           }
          },
          "colorscale": {
           "diverging": [
            [
             0,
             "#8e0152"
            ],
            [
             0.1,
             "#c51b7d"
            ],
            [
             0.2,
             "#de77ae"
            ],
            [
             0.3,
             "#f1b6da"
            ],
            [
             0.4,
             "#fde0ef"
            ],
            [
             0.5,
             "#f7f7f7"
            ],
            [
             0.6,
             "#e6f5d0"
            ],
            [
             0.7,
             "#b8e186"
            ],
            [
             0.8,
             "#7fbc41"
            ],
            [
             0.9,
             "#4d9221"
            ],
            [
             1,
             "#276419"
            ]
           ],
           "sequential": [
            [
             0,
             "#0d0887"
            ],
            [
             0.1111111111111111,
             "#46039f"
            ],
            [
             0.2222222222222222,
             "#7201a8"
            ],
            [
             0.3333333333333333,
             "#9c179e"
            ],
            [
             0.4444444444444444,
             "#bd3786"
            ],
            [
             0.5555555555555556,
             "#d8576b"
            ],
            [
             0.6666666666666666,
             "#ed7953"
            ],
            [
             0.7777777777777778,
             "#fb9f3a"
            ],
            [
             0.8888888888888888,
             "#fdca26"
            ],
            [
             1,
             "#f0f921"
            ]
           ],
           "sequentialminus": [
            [
             0,
             "#0d0887"
            ],
            [
             0.1111111111111111,
             "#46039f"
            ],
            [
             0.2222222222222222,
             "#7201a8"
            ],
            [
             0.3333333333333333,
             "#9c179e"
            ],
            [
             0.4444444444444444,
             "#bd3786"
            ],
            [
             0.5555555555555556,
             "#d8576b"
            ],
            [
             0.6666666666666666,
             "#ed7953"
            ],
            [
             0.7777777777777778,
             "#fb9f3a"
            ],
            [
             0.8888888888888888,
             "#fdca26"
            ],
            [
             1,
             "#f0f921"
            ]
           ]
          },
          "colorway": [
           "#636efa",
           "#EF553B",
           "#00cc96",
           "#ab63fa",
           "#FFA15A",
           "#19d3f3",
           "#FF6692",
           "#B6E880",
           "#FF97FF",
           "#FECB52"
          ],
          "font": {
           "color": "#2a3f5f"
          },
          "geo": {
           "bgcolor": "white",
           "lakecolor": "white",
           "landcolor": "#E5ECF6",
           "showlakes": true,
           "showland": true,
           "subunitcolor": "white"
          },
          "hoverlabel": {
           "align": "left"
          },
          "hovermode": "closest",
          "mapbox": {
           "style": "light"
          },
          "paper_bgcolor": "white",
          "plot_bgcolor": "#E5ECF6",
          "polar": {
           "angularaxis": {
            "gridcolor": "white",
            "linecolor": "white",
            "ticks": ""
           },
           "bgcolor": "#E5ECF6",
           "radialaxis": {
            "gridcolor": "white",
            "linecolor": "white",
            "ticks": ""
           }
          },
          "scene": {
           "xaxis": {
            "backgroundcolor": "#E5ECF6",
            "gridcolor": "white",
            "gridwidth": 2,
            "linecolor": "white",
            "showbackground": true,
            "ticks": "",
            "zerolinecolor": "white"
           },
           "yaxis": {
            "backgroundcolor": "#E5ECF6",
            "gridcolor": "white",
            "gridwidth": 2,
            "linecolor": "white",
            "showbackground": true,
            "ticks": "",
            "zerolinecolor": "white"
           },
           "zaxis": {
            "backgroundcolor": "#E5ECF6",
            "gridcolor": "white",
            "gridwidth": 2,
            "linecolor": "white",
            "showbackground": true,
            "ticks": "",
            "zerolinecolor": "white"
           }
          },
          "shapedefaults": {
           "line": {
            "color": "#2a3f5f"
           }
          },
          "ternary": {
           "aaxis": {
            "gridcolor": "white",
            "linecolor": "white",
            "ticks": ""
           },
           "baxis": {
            "gridcolor": "white",
            "linecolor": "white",
            "ticks": ""
           },
           "bgcolor": "#E5ECF6",
           "caxis": {
            "gridcolor": "white",
            "linecolor": "white",
            "ticks": ""
           }
          },
          "title": {
           "x": 0.05
          },
          "xaxis": {
           "automargin": true,
           "gridcolor": "white",
           "linecolor": "white",
           "ticks": "",
           "title": {
            "standoff": 15
           },
           "zerolinecolor": "white",
           "zerolinewidth": 2
          },
          "yaxis": {
           "automargin": true,
           "gridcolor": "white",
           "linecolor": "white",
           "ticks": "",
           "title": {
            "standoff": 15
           },
           "zerolinecolor": "white",
           "zerolinewidth": 2
          }
         }
        },
        "title": {
         "text": "Sales by Year-Month for the UK"
        },
        "xaxis": {
         "title": {
          "text": "Date"
         }
        },
        "yaxis": {
         "title": {
          "text": "Quantity"
         }
        }
       }
      },
      "text/html": [
       "<div>                            <div id=\"3a5d293b-f7a4-45d4-9bc2-9b4e29d63358\" class=\"plotly-graph-div\" style=\"height:525px; width:100%;\"></div>            <script type=\"text/javascript\">                require([\"plotly\"], function(Plotly) {                    window.PLOTLYENV=window.PLOTLYENV || {};                                    if (document.getElementById(\"3a5d293b-f7a4-45d4-9bc2-9b4e29d63358\")) {                    Plotly.newPlot(                        \"3a5d293b-f7a4-45d4-9bc2-9b4e29d63358\",                        [{\"mode\":\"lines\",\"name\":\"Quantity Sold\",\"x\":[\"2010-12\",\"2011-01\",\"2011-02\",\"2011-03\",\"2011-04\",\"2011-05\",\"2011-06\",\"2011-07\",\"2011-08\",\"2011-09\",\"2011-10\",\"2011-11\",\"2011-12\"],\"y\":[267569,203995,213291,276218,260346,301803,280931,303500,310791,454016,475727,567319,178791],\"type\":\"scatter\"}],                        {\"title\":{\"text\":\"Sales by Year-Month for the UK\"},\"xaxis\":{\"title\":{\"text\":\"Date\"}},\"yaxis\":{\"title\":{\"text\":\"Quantity\"}},\"template\":{\"data\":{\"histogram2dcontour\":[{\"type\":\"histogram2dcontour\",\"colorbar\":{\"outlinewidth\":0,\"ticks\":\"\"},\"colorscale\":[[0.0,\"#0d0887\"],[0.1111111111111111,\"#46039f\"],[0.2222222222222222,\"#7201a8\"],[0.3333333333333333,\"#9c179e\"],[0.4444444444444444,\"#bd3786\"],[0.5555555555555556,\"#d8576b\"],[0.6666666666666666,\"#ed7953\"],[0.7777777777777778,\"#fb9f3a\"],[0.8888888888888888,\"#fdca26\"],[1.0,\"#f0f921\"]]}],\"choropleth\":[{\"type\":\"choropleth\",\"colorbar\":{\"outlinewidth\":0,\"ticks\":\"\"}}],\"histogram2d\":[{\"type\":\"histogram2d\",\"colorbar\":{\"outlinewidth\":0,\"ticks\":\"\"},\"colorscale\":[[0.0,\"#0d0887\"],[0.1111111111111111,\"#46039f\"],[0.2222222222222222,\"#7201a8\"],[0.3333333333333333,\"#9c179e\"],[0.4444444444444444,\"#bd3786\"],[0.5555555555555556,\"#d8576b\"],[0.6666666666666666,\"#ed7953\"],[0.7777777777777778,\"#fb9f3a\"],[0.8888888888888888,\"#fdca26\"],[1.0,\"#f0f921\"]]}],\"heatmap\":[{\"type\":\"heatmap\",\"colorbar\":{\"outlinewidth\":0,\"ticks\":\"\"},\"colorscale\":[[0.0,\"#0d0887\"],[0.1111111111111111,\"#46039f\"],[0.2222222222222222,\"#7201a8\"],[0.3333333333333333,\"#9c179e\"],[0.4444444444444444,\"#bd3786\"],[0.5555555555555556,\"#d8576b\"],[0.6666666666666666,\"#ed7953\"],[0.7777777777777778,\"#fb9f3a\"],[0.8888888888888888,\"#fdca26\"],[1.0,\"#f0f921\"]]}],\"heatmapgl\":[{\"type\":\"heatmapgl\",\"colorbar\":{\"outlinewidth\":0,\"ticks\":\"\"},\"colorscale\":[[0.0,\"#0d0887\"],[0.1111111111111111,\"#46039f\"],[0.2222222222222222,\"#7201a8\"],[0.3333333333333333,\"#9c179e\"],[0.4444444444444444,\"#bd3786\"],[0.5555555555555556,\"#d8576b\"],[0.6666666666666666,\"#ed7953\"],[0.7777777777777778,\"#fb9f3a\"],[0.8888888888888888,\"#fdca26\"],[1.0,\"#f0f921\"]]}],\"contourcarpet\":[{\"type\":\"contourcarpet\",\"colorbar\":{\"outlinewidth\":0,\"ticks\":\"\"}}],\"contour\":[{\"type\":\"contour\",\"colorbar\":{\"outlinewidth\":0,\"ticks\":\"\"},\"colorscale\":[[0.0,\"#0d0887\"],[0.1111111111111111,\"#46039f\"],[0.2222222222222222,\"#7201a8\"],[0.3333333333333333,\"#9c179e\"],[0.4444444444444444,\"#bd3786\"],[0.5555555555555556,\"#d8576b\"],[0.6666666666666666,\"#ed7953\"],[0.7777777777777778,\"#fb9f3a\"],[0.8888888888888888,\"#fdca26\"],[1.0,\"#f0f921\"]]}],\"surface\":[{\"type\":\"surface\",\"colorbar\":{\"outlinewidth\":0,\"ticks\":\"\"},\"colorscale\":[[0.0,\"#0d0887\"],[0.1111111111111111,\"#46039f\"],[0.2222222222222222,\"#7201a8\"],[0.3333333333333333,\"#9c179e\"],[0.4444444444444444,\"#bd3786\"],[0.5555555555555556,\"#d8576b\"],[0.6666666666666666,\"#ed7953\"],[0.7777777777777778,\"#fb9f3a\"],[0.8888888888888888,\"#fdca26\"],[1.0,\"#f0f921\"]]}],\"mesh3d\":[{\"type\":\"mesh3d\",\"colorbar\":{\"outlinewidth\":0,\"ticks\":\"\"}}],\"scatter\":[{\"fillpattern\":{\"fillmode\":\"overlay\",\"size\":10,\"solidity\":0.2},\"type\":\"scatter\"}],\"parcoords\":[{\"type\":\"parcoords\",\"line\":{\"colorbar\":{\"outlinewidth\":0,\"ticks\":\"\"}}}],\"scatterpolargl\":[{\"type\":\"scatterpolargl\",\"marker\":{\"colorbar\":{\"outlinewidth\":0,\"ticks\":\"\"}}}],\"bar\":[{\"error_x\":{\"color\":\"#2a3f5f\"},\"error_y\":{\"color\":\"#2a3f5f\"},\"marker\":{\"line\":{\"color\":\"#E5ECF6\",\"width\":0.5},\"pattern\":{\"fillmode\":\"overlay\",\"size\":10,\"solidity\":0.2}},\"type\":\"bar\"}],\"scattergeo\":[{\"type\":\"scattergeo\",\"marker\":{\"colorbar\":{\"outlinewidth\":0,\"ticks\":\"\"}}}],\"scatterpolar\":[{\"type\":\"scatterpolar\",\"marker\":{\"colorbar\":{\"outlinewidth\":0,\"ticks\":\"\"}}}],\"histogram\":[{\"marker\":{\"pattern\":{\"fillmode\":\"overlay\",\"size\":10,\"solidity\":0.2}},\"type\":\"histogram\"}],\"scattergl\":[{\"type\":\"scattergl\",\"marker\":{\"colorbar\":{\"outlinewidth\":0,\"ticks\":\"\"}}}],\"scatter3d\":[{\"type\":\"scatter3d\",\"line\":{\"colorbar\":{\"outlinewidth\":0,\"ticks\":\"\"}},\"marker\":{\"colorbar\":{\"outlinewidth\":0,\"ticks\":\"\"}}}],\"scattermapbox\":[{\"type\":\"scattermapbox\",\"marker\":{\"colorbar\":{\"outlinewidth\":0,\"ticks\":\"\"}}}],\"scatterternary\":[{\"type\":\"scatterternary\",\"marker\":{\"colorbar\":{\"outlinewidth\":0,\"ticks\":\"\"}}}],\"scattercarpet\":[{\"type\":\"scattercarpet\",\"marker\":{\"colorbar\":{\"outlinewidth\":0,\"ticks\":\"\"}}}],\"carpet\":[{\"aaxis\":{\"endlinecolor\":\"#2a3f5f\",\"gridcolor\":\"white\",\"linecolor\":\"white\",\"minorgridcolor\":\"white\",\"startlinecolor\":\"#2a3f5f\"},\"baxis\":{\"endlinecolor\":\"#2a3f5f\",\"gridcolor\":\"white\",\"linecolor\":\"white\",\"minorgridcolor\":\"white\",\"startlinecolor\":\"#2a3f5f\"},\"type\":\"carpet\"}],\"table\":[{\"cells\":{\"fill\":{\"color\":\"#EBF0F8\"},\"line\":{\"color\":\"white\"}},\"header\":{\"fill\":{\"color\":\"#C8D4E3\"},\"line\":{\"color\":\"white\"}},\"type\":\"table\"}],\"barpolar\":[{\"marker\":{\"line\":{\"color\":\"#E5ECF6\",\"width\":0.5},\"pattern\":{\"fillmode\":\"overlay\",\"size\":10,\"solidity\":0.2}},\"type\":\"barpolar\"}],\"pie\":[{\"automargin\":true,\"type\":\"pie\"}]},\"layout\":{\"autotypenumbers\":\"strict\",\"colorway\":[\"#636efa\",\"#EF553B\",\"#00cc96\",\"#ab63fa\",\"#FFA15A\",\"#19d3f3\",\"#FF6692\",\"#B6E880\",\"#FF97FF\",\"#FECB52\"],\"font\":{\"color\":\"#2a3f5f\"},\"hovermode\":\"closest\",\"hoverlabel\":{\"align\":\"left\"},\"paper_bgcolor\":\"white\",\"plot_bgcolor\":\"#E5ECF6\",\"polar\":{\"bgcolor\":\"#E5ECF6\",\"angularaxis\":{\"gridcolor\":\"white\",\"linecolor\":\"white\",\"ticks\":\"\"},\"radialaxis\":{\"gridcolor\":\"white\",\"linecolor\":\"white\",\"ticks\":\"\"}},\"ternary\":{\"bgcolor\":\"#E5ECF6\",\"aaxis\":{\"gridcolor\":\"white\",\"linecolor\":\"white\",\"ticks\":\"\"},\"baxis\":{\"gridcolor\":\"white\",\"linecolor\":\"white\",\"ticks\":\"\"},\"caxis\":{\"gridcolor\":\"white\",\"linecolor\":\"white\",\"ticks\":\"\"}},\"coloraxis\":{\"colorbar\":{\"outlinewidth\":0,\"ticks\":\"\"}},\"colorscale\":{\"sequential\":[[0.0,\"#0d0887\"],[0.1111111111111111,\"#46039f\"],[0.2222222222222222,\"#7201a8\"],[0.3333333333333333,\"#9c179e\"],[0.4444444444444444,\"#bd3786\"],[0.5555555555555556,\"#d8576b\"],[0.6666666666666666,\"#ed7953\"],[0.7777777777777778,\"#fb9f3a\"],[0.8888888888888888,\"#fdca26\"],[1.0,\"#f0f921\"]],\"sequentialminus\":[[0.0,\"#0d0887\"],[0.1111111111111111,\"#46039f\"],[0.2222222222222222,\"#7201a8\"],[0.3333333333333333,\"#9c179e\"],[0.4444444444444444,\"#bd3786\"],[0.5555555555555556,\"#d8576b\"],[0.6666666666666666,\"#ed7953\"],[0.7777777777777778,\"#fb9f3a\"],[0.8888888888888888,\"#fdca26\"],[1.0,\"#f0f921\"]],\"diverging\":[[0,\"#8e0152\"],[0.1,\"#c51b7d\"],[0.2,\"#de77ae\"],[0.3,\"#f1b6da\"],[0.4,\"#fde0ef\"],[0.5,\"#f7f7f7\"],[0.6,\"#e6f5d0\"],[0.7,\"#b8e186\"],[0.8,\"#7fbc41\"],[0.9,\"#4d9221\"],[1,\"#276419\"]]},\"xaxis\":{\"gridcolor\":\"white\",\"linecolor\":\"white\",\"ticks\":\"\",\"title\":{\"standoff\":15},\"zerolinecolor\":\"white\",\"automargin\":true,\"zerolinewidth\":2},\"yaxis\":{\"gridcolor\":\"white\",\"linecolor\":\"white\",\"ticks\":\"\",\"title\":{\"standoff\":15},\"zerolinecolor\":\"white\",\"automargin\":true,\"zerolinewidth\":2},\"scene\":{\"xaxis\":{\"backgroundcolor\":\"#E5ECF6\",\"gridcolor\":\"white\",\"linecolor\":\"white\",\"showbackground\":true,\"ticks\":\"\",\"zerolinecolor\":\"white\",\"gridwidth\":2},\"yaxis\":{\"backgroundcolor\":\"#E5ECF6\",\"gridcolor\":\"white\",\"linecolor\":\"white\",\"showbackground\":true,\"ticks\":\"\",\"zerolinecolor\":\"white\",\"gridwidth\":2},\"zaxis\":{\"backgroundcolor\":\"#E5ECF6\",\"gridcolor\":\"white\",\"linecolor\":\"white\",\"showbackground\":true,\"ticks\":\"\",\"zerolinecolor\":\"white\",\"gridwidth\":2}},\"shapedefaults\":{\"line\":{\"color\":\"#2a3f5f\"}},\"annotationdefaults\":{\"arrowcolor\":\"#2a3f5f\",\"arrowhead\":0,\"arrowwidth\":1},\"geo\":{\"bgcolor\":\"white\",\"landcolor\":\"#E5ECF6\",\"subunitcolor\":\"white\",\"showland\":true,\"showlakes\":true,\"lakecolor\":\"white\"},\"title\":{\"x\":0.05},\"mapbox\":{\"style\":\"light\"}}}},                        {\"responsive\": true}                    ).then(function(){\n",
       "                            \n",
       "var gd = document.getElementById('3a5d293b-f7a4-45d4-9bc2-9b4e29d63358');\n",
       "var x = new MutationObserver(function (mutations, observer) {{\n",
       "        var display = window.getComputedStyle(gd).display;\n",
       "        if (!display || display === 'none') {{\n",
       "            console.log([gd, 'removed!']);\n",
       "            Plotly.purge(gd);\n",
       "            observer.disconnect();\n",
       "        }}\n",
       "}});\n",
       "\n",
       "// Listen for the removal of the full notebook cells\n",
       "var notebookContainer = gd.closest('#notebook-container');\n",
       "if (notebookContainer) {{\n",
       "    x.observe(notebookContainer, {childList: true});\n",
       "}}\n",
       "\n",
       "// Listen for the clearing of the current output cell\n",
       "var outputEl = gd.closest('.output');\n",
       "if (outputEl) {{\n",
       "    x.observe(outputEl, {childList: true});\n",
       "}}\n",
       "\n",
       "                        })                };                });            </script>        </div>"
      ],
      "text/plain": [
       "Figure({\n",
       "    'data': [{'mode': 'lines',\n",
       "              'name': 'Quantity Sold',\n",
       "              'type': 'scatter',\n",
       "              'x': array(['2010-12', '2011-01', '2011-02', '2011-03', '2011-04', '2011-05',\n",
       "                          '2011-06', '2011-07', '2011-08', '2011-09', '2011-10', '2011-11',\n",
       "                          '2011-12'], dtype=object),\n",
       "              'y': array([267569, 203995, 213291, 276218, 260346, 301803, 280931, 303500, 310791,\n",
       "                          454016, 475727, 567319, 178791], dtype=int64)}],\n",
       "    'layout': {'template': '...',\n",
       "               'title': {'text': 'Sales by Year-Month for the UK'},\n",
       "               'xaxis': {'title': {'text': 'Date'}},\n",
       "               'yaxis': {'title': {'text': 'Quantity'}}}\n",
       "})"
      ]
     },
     "execution_count": 57,
     "metadata": {},
     "output_type": "execute_result"
    }
   ],
   "source": [
    "data6 = df[df['Country'] == 'United Kingdom']\n",
    "data6['Day'] = pd.to_datetime(data6['InvoiceDate']).dt.day\n",
    "data6['Month'] = pd.to_datetime(data6['InvoiceDate']).dt.month\n",
    "data6['Year'] = pd.to_datetime(data6['InvoiceDate']).dt.year\n",
    "data6 = data6.groupby(['Year', 'Month'])['Quantity'].sum().reset_index()\n",
    "\n",
    "trace = go.Scatter(x=data6['Year'].astype(str) + '-' + data6['Month'].astype(str).str.zfill(2),\n",
    "                   y=data6['Quantity'],\n",
    "                   mode='lines',\n",
    "                   name='Quantity Sold')\n",
    "layout = go.Layout(title='Sales by Year-Month for the UK',\n",
    "                   xaxis=dict(title='Date'),\n",
    "                   yaxis=dict(title='Quantity'))\n",
    "go.Figure(data=[trace], layout=layout)"
   ]
  },
  {
   "cell_type": "markdown",
   "metadata": {},
   "source": [
    "## 7. Create an interactive scatter plot that plots number of invoices (x-axis) vs. number of customers (y-axis) and the plot points represent individual products. Add two sliders that control the x and y axis ranges."
   ]
  },
  {
   "cell_type": "code",
   "execution_count": 59,
   "metadata": {},
   "outputs": [
    {
     "ename": "ValueError",
     "evalue": "Invalid property specified for object of type plotly.graph_objs.layout.Slider: 'label'\n\nDid you mean \"len\"?\n\n    Valid properties:\n        active\n            Determines which button (by index starting from 0) is\n            considered active.\n        activebgcolor\n            Sets the background color of the slider grip while\n            dragging.\n        bgcolor\n            Sets the background color of the slider.\n        bordercolor\n            Sets the color of the border enclosing the slider.\n        borderwidth\n            Sets the width (in px) of the border enclosing the\n            slider.\n        currentvalue\n            :class:`plotly.graph_objects.layout.slider.Currentvalue\n            ` instance or dict with compatible properties\n        font\n            Sets the font of the slider step labels.\n        len\n            Sets the length of the slider This measure excludes the\n            padding of both ends. That is, the slider's length is\n            this length minus the padding on both ends.\n        lenmode\n            Determines whether this slider length is set in units\n            of plot \"fraction\" or in *pixels. Use `len` to set the\n            value.\n        minorticklen\n            Sets the length in pixels of minor step tick marks\n        name\n            When used in a template, named items are created in the\n            output figure in addition to any items the figure\n            already has in this array. You can modify these items\n            in the output figure by making your own item with\n            `templateitemname` matching this `name` alongside your\n            modifications (including `visible: false` or `enabled:\n            false` to hide it). Has no effect outside of a\n            template.\n        pad\n            Set the padding of the slider component along each\n            side.\n        steps\n            A tuple of\n            :class:`plotly.graph_objects.layout.slider.Step`\n            instances or dicts with compatible properties\n        stepdefaults\n            When used in a template (as\n            layout.template.layout.slider.stepdefaults), sets the\n            default property values to use for elements of\n            layout.slider.steps\n        templateitemname\n            Used to refer to a named item in this array in the\n            template. Named items from the template will be created\n            even without a matching item in the input figure, but\n            you can modify one by making an item with\n            `templateitemname` matching its `name`, alongside your\n            modifications (including `visible: false` or `enabled:\n            false` to hide it). If there is no template or no\n            matching item, this item will be hidden unless you\n            explicitly show it with `visible: true`.\n        tickcolor\n            Sets the color of the border enclosing the slider.\n        ticklen\n            Sets the length in pixels of step tick marks\n        tickwidth\n            Sets the tick width (in px).\n        transition\n            :class:`plotly.graph_objects.layout.slider.Transition`\n            instance or dict with compatible properties\n        visible\n            Determines whether or not the slider is visible.\n        x\n            Sets the x position (in normalized coordinates) of the\n            slider.\n        xanchor\n            Sets the slider's horizontal position anchor. This\n            anchor binds the `x` position to the \"left\", \"center\"\n            or \"right\" of the range selector.\n        y\n            Sets the y position (in normalized coordinates) of the\n            slider.\n        yanchor\n            Sets the slider's vertical position anchor This anchor\n            binds the `y` position to the \"top\", \"middle\" or\n            \"bottom\" of the range selector.\n        \nDid you mean \"len\"?\n\nBad property path:\nlabel\n^^^^^",
     "output_type": "error",
     "traceback": [
      "\u001b[1;31m---------------------------------------------------------------------------\u001b[0m",
      "\u001b[1;31mValueError\u001b[0m                                Traceback (most recent call last)",
      "\u001b[1;32mc:\\Users\\blanx\\ironhack\\labs_clase\\semana_5\\dia_2\\5.2-lab_interactive_visualization_blanca\\your-code\\main.ipynb Celda 24\u001b[0m line \u001b[0;36m1\n\u001b[0;32m      <a href='vscode-notebook-cell:/c%3A/Users/blanx/ironhack/labs_clase/semana_5/dia_2/5.2-lab_interactive_visualization_blanca/your-code/main.ipynb#X40sZmlsZQ%3D%3D?line=6'>7</a>\u001b[0m fig \u001b[39m=\u001b[39m px\u001b[39m.\u001b[39mscatter(product_stats, x\u001b[39m=\u001b[39m\u001b[39m'\u001b[39m\u001b[39mInvoiceNo\u001b[39m\u001b[39m'\u001b[39m, y\u001b[39m=\u001b[39m\u001b[39m'\u001b[39m\u001b[39mCustomerID\u001b[39m\u001b[39m'\u001b[39m, text\u001b[39m=\u001b[39m\u001b[39m'\u001b[39m\u001b[39mStockCode\u001b[39m\u001b[39m'\u001b[39m,\n\u001b[0;32m      <a href='vscode-notebook-cell:/c%3A/Users/blanx/ironhack/labs_clase/semana_5/dia_2/5.2-lab_interactive_visualization_blanca/your-code/main.ipynb#X40sZmlsZQ%3D%3D?line=7'>8</a>\u001b[0m                  labels\u001b[39m=\u001b[39m{\u001b[39m'\u001b[39m\u001b[39mInvoiceNo\u001b[39m\u001b[39m'\u001b[39m: \u001b[39m'\u001b[39m\u001b[39mNumber of Invoices\u001b[39m\u001b[39m'\u001b[39m, \u001b[39m'\u001b[39m\u001b[39mCustomerID\u001b[39m\u001b[39m'\u001b[39m: \u001b[39m'\u001b[39m\u001b[39mNumber of Customers\u001b[39m\u001b[39m'\u001b[39m},\n\u001b[0;32m      <a href='vscode-notebook-cell:/c%3A/Users/blanx/ironhack/labs_clase/semana_5/dia_2/5.2-lab_interactive_visualization_blanca/your-code/main.ipynb#X40sZmlsZQ%3D%3D?line=8'>9</a>\u001b[0m                  title\u001b[39m=\u001b[39m\u001b[39m'\u001b[39m\u001b[39mNumber of Invoices vs. Number of Customers per Product\u001b[39m\u001b[39m'\u001b[39m,\n\u001b[0;32m     <a href='vscode-notebook-cell:/c%3A/Users/blanx/ironhack/labs_clase/semana_5/dia_2/5.2-lab_interactive_visualization_blanca/your-code/main.ipynb#X40sZmlsZQ%3D%3D?line=9'>10</a>\u001b[0m                  hover_name\u001b[39m=\u001b[39m\u001b[39m'\u001b[39m\u001b[39mStockCode\u001b[39m\u001b[39m'\u001b[39m)\n\u001b[0;32m     <a href='vscode-notebook-cell:/c%3A/Users/blanx/ironhack/labs_clase/semana_5/dia_2/5.2-lab_interactive_visualization_blanca/your-code/main.ipynb#X40sZmlsZQ%3D%3D?line=11'>12</a>\u001b[0m \u001b[39m# Añadir controles deslizantes para los rangos de los ejes x e y\u001b[39;00m\n\u001b[1;32m---> <a href='vscode-notebook-cell:/c%3A/Users/blanx/ironhack/labs_clase/semana_5/dia_2/5.2-lab_interactive_visualization_blanca/your-code/main.ipynb#X40sZmlsZQ%3D%3D?line=12'>13</a>\u001b[0m fig\u001b[39m.\u001b[39;49mupdate_layout(\n\u001b[0;32m     <a href='vscode-notebook-cell:/c%3A/Users/blanx/ironhack/labs_clase/semana_5/dia_2/5.2-lab_interactive_visualization_blanca/your-code/main.ipynb#X40sZmlsZQ%3D%3D?line=13'>14</a>\u001b[0m     sliders\u001b[39m=\u001b[39;49m[\n\u001b[0;32m     <a href='vscode-notebook-cell:/c%3A/Users/blanx/ironhack/labs_clase/semana_5/dia_2/5.2-lab_interactive_visualization_blanca/your-code/main.ipynb#X40sZmlsZQ%3D%3D?line=14'>15</a>\u001b[0m         {\u001b[39m'\u001b[39;49m\u001b[39msteps\u001b[39;49m\u001b[39m'\u001b[39;49m: [\n\u001b[0;32m     <a href='vscode-notebook-cell:/c%3A/Users/blanx/ironhack/labs_clase/semana_5/dia_2/5.2-lab_interactive_visualization_blanca/your-code/main.ipynb#X40sZmlsZQ%3D%3D?line=15'>16</a>\u001b[0m             {\u001b[39m'\u001b[39;49m\u001b[39margs\u001b[39;49m\u001b[39m'\u001b[39;49m: [\u001b[39m'\u001b[39;49m\u001b[39mx\u001b[39;49m\u001b[39m'\u001b[39;49m, [\u001b[39m0\u001b[39;49m, \u001b[39m100\u001b[39;49m]], \u001b[39m'\u001b[39;49m\u001b[39mlabel\u001b[39;49m\u001b[39m'\u001b[39;49m: \u001b[39m'\u001b[39;49m\u001b[39m0-100\u001b[39;49m\u001b[39m'\u001b[39;49m},\n\u001b[0;32m     <a href='vscode-notebook-cell:/c%3A/Users/blanx/ironhack/labs_clase/semana_5/dia_2/5.2-lab_interactive_visualization_blanca/your-code/main.ipynb#X40sZmlsZQ%3D%3D?line=16'>17</a>\u001b[0m             {\u001b[39m'\u001b[39;49m\u001b[39margs\u001b[39;49m\u001b[39m'\u001b[39;49m: [\u001b[39m'\u001b[39;49m\u001b[39mx\u001b[39;49m\u001b[39m'\u001b[39;49m, [\u001b[39m100\u001b[39;49m, \u001b[39m200\u001b[39;49m]], \u001b[39m'\u001b[39;49m\u001b[39mlabel\u001b[39;49m\u001b[39m'\u001b[39;49m: \u001b[39m'\u001b[39;49m\u001b[39m100-200\u001b[39;49m\u001b[39m'\u001b[39;49m},\n\u001b[0;32m     <a href='vscode-notebook-cell:/c%3A/Users/blanx/ironhack/labs_clase/semana_5/dia_2/5.2-lab_interactive_visualization_blanca/your-code/main.ipynb#X40sZmlsZQ%3D%3D?line=17'>18</a>\u001b[0m             {\u001b[39m'\u001b[39;49m\u001b[39margs\u001b[39;49m\u001b[39m'\u001b[39;49m: [\u001b[39m'\u001b[39;49m\u001b[39mx\u001b[39;49m\u001b[39m'\u001b[39;49m, [\u001b[39m200\u001b[39;49m, \u001b[39m300\u001b[39;49m]], \u001b[39m'\u001b[39;49m\u001b[39mlabel\u001b[39;49m\u001b[39m'\u001b[39;49m: \u001b[39m'\u001b[39;49m\u001b[39m200-300\u001b[39;49m\u001b[39m'\u001b[39;49m},\n\u001b[0;32m     <a href='vscode-notebook-cell:/c%3A/Users/blanx/ironhack/labs_clase/semana_5/dia_2/5.2-lab_interactive_visualization_blanca/your-code/main.ipynb#X40sZmlsZQ%3D%3D?line=18'>19</a>\u001b[0m             \u001b[39m# ... Añadir más pasos según sea necesario\u001b[39;49;00m\n\u001b[0;32m     <a href='vscode-notebook-cell:/c%3A/Users/blanx/ironhack/labs_clase/semana_5/dia_2/5.2-lab_interactive_visualization_blanca/your-code/main.ipynb#X40sZmlsZQ%3D%3D?line=19'>20</a>\u001b[0m         ],\n\u001b[0;32m     <a href='vscode-notebook-cell:/c%3A/Users/blanx/ironhack/labs_clase/semana_5/dia_2/5.2-lab_interactive_visualization_blanca/your-code/main.ipynb#X40sZmlsZQ%3D%3D?line=20'>21</a>\u001b[0m             \u001b[39m'\u001b[39;49m\u001b[39mactive\u001b[39;49m\u001b[39m'\u001b[39;49m: \u001b[39m0\u001b[39;49m,\n\u001b[0;32m     <a href='vscode-notebook-cell:/c%3A/Users/blanx/ironhack/labs_clase/semana_5/dia_2/5.2-lab_interactive_visualization_blanca/your-code/main.ipynb#X40sZmlsZQ%3D%3D?line=21'>22</a>\u001b[0m             \u001b[39m'\u001b[39;49m\u001b[39mlabel\u001b[39;49m\u001b[39m'\u001b[39;49m: \u001b[39m'\u001b[39;49m\u001b[39mNumber of Invoices Range\u001b[39;49m\u001b[39m'\u001b[39;49m,\n\u001b[0;32m     <a href='vscode-notebook-cell:/c%3A/Users/blanx/ironhack/labs_clase/semana_5/dia_2/5.2-lab_interactive_visualization_blanca/your-code/main.ipynb#X40sZmlsZQ%3D%3D?line=22'>23</a>\u001b[0m             \u001b[39m'\u001b[39;49m\u001b[39mmethod\u001b[39;49m\u001b[39m'\u001b[39;49m: \u001b[39m'\u001b[39;49m\u001b[39mrelayout\u001b[39;49m\u001b[39m'\u001b[39;49m},\n\u001b[0;32m     <a href='vscode-notebook-cell:/c%3A/Users/blanx/ironhack/labs_clase/semana_5/dia_2/5.2-lab_interactive_visualization_blanca/your-code/main.ipynb#X40sZmlsZQ%3D%3D?line=23'>24</a>\u001b[0m         {\u001b[39m'\u001b[39;49m\u001b[39msteps\u001b[39;49m\u001b[39m'\u001b[39;49m: [\n\u001b[0;32m     <a href='vscode-notebook-cell:/c%3A/Users/blanx/ironhack/labs_clase/semana_5/dia_2/5.2-lab_interactive_visualization_blanca/your-code/main.ipynb#X40sZmlsZQ%3D%3D?line=24'>25</a>\u001b[0m             {\u001b[39m'\u001b[39;49m\u001b[39margs\u001b[39;49m\u001b[39m'\u001b[39;49m: [\u001b[39m'\u001b[39;49m\u001b[39my\u001b[39;49m\u001b[39m'\u001b[39;49m, [\u001b[39m0\u001b[39;49m, \u001b[39m20\u001b[39;49m]], \u001b[39m'\u001b[39;49m\u001b[39mlabel\u001b[39;49m\u001b[39m'\u001b[39;49m: \u001b[39m'\u001b[39;49m\u001b[39m0-20\u001b[39;49m\u001b[39m'\u001b[39;49m},\n\u001b[0;32m     <a href='vscode-notebook-cell:/c%3A/Users/blanx/ironhack/labs_clase/semana_5/dia_2/5.2-lab_interactive_visualization_blanca/your-code/main.ipynb#X40sZmlsZQ%3D%3D?line=25'>26</a>\u001b[0m             {\u001b[39m'\u001b[39;49m\u001b[39margs\u001b[39;49m\u001b[39m'\u001b[39;49m: [\u001b[39m'\u001b[39;49m\u001b[39my\u001b[39;49m\u001b[39m'\u001b[39;49m, [\u001b[39m20\u001b[39;49m, \u001b[39m40\u001b[39;49m]], \u001b[39m'\u001b[39;49m\u001b[39mlabel\u001b[39;49m\u001b[39m'\u001b[39;49m: \u001b[39m'\u001b[39;49m\u001b[39m20-40\u001b[39;49m\u001b[39m'\u001b[39;49m},\n\u001b[0;32m     <a href='vscode-notebook-cell:/c%3A/Users/blanx/ironhack/labs_clase/semana_5/dia_2/5.2-lab_interactive_visualization_blanca/your-code/main.ipynb#X40sZmlsZQ%3D%3D?line=26'>27</a>\u001b[0m             {\u001b[39m'\u001b[39;49m\u001b[39margs\u001b[39;49m\u001b[39m'\u001b[39;49m: [\u001b[39m'\u001b[39;49m\u001b[39my\u001b[39;49m\u001b[39m'\u001b[39;49m, [\u001b[39m40\u001b[39;49m, \u001b[39m60\u001b[39;49m]], \u001b[39m'\u001b[39;49m\u001b[39mlabel\u001b[39;49m\u001b[39m'\u001b[39;49m: \u001b[39m'\u001b[39;49m\u001b[39m40-60\u001b[39;49m\u001b[39m'\u001b[39;49m},\n\u001b[0;32m     <a href='vscode-notebook-cell:/c%3A/Users/blanx/ironhack/labs_clase/semana_5/dia_2/5.2-lab_interactive_visualization_blanca/your-code/main.ipynb#X40sZmlsZQ%3D%3D?line=27'>28</a>\u001b[0m             \u001b[39m# ... Añadir más pasos según sea necesario\u001b[39;49;00m\n\u001b[0;32m     <a href='vscode-notebook-cell:/c%3A/Users/blanx/ironhack/labs_clase/semana_5/dia_2/5.2-lab_interactive_visualization_blanca/your-code/main.ipynb#X40sZmlsZQ%3D%3D?line=28'>29</a>\u001b[0m         ],\n\u001b[0;32m     <a href='vscode-notebook-cell:/c%3A/Users/blanx/ironhack/labs_clase/semana_5/dia_2/5.2-lab_interactive_visualization_blanca/your-code/main.ipynb#X40sZmlsZQ%3D%3D?line=29'>30</a>\u001b[0m             \u001b[39m'\u001b[39;49m\u001b[39mactive\u001b[39;49m\u001b[39m'\u001b[39;49m: \u001b[39m0\u001b[39;49m,\n\u001b[0;32m     <a href='vscode-notebook-cell:/c%3A/Users/blanx/ironhack/labs_clase/semana_5/dia_2/5.2-lab_interactive_visualization_blanca/your-code/main.ipynb#X40sZmlsZQ%3D%3D?line=30'>31</a>\u001b[0m             \u001b[39m'\u001b[39;49m\u001b[39mlabel\u001b[39;49m\u001b[39m'\u001b[39;49m: \u001b[39m'\u001b[39;49m\u001b[39mNumber of Customers Range\u001b[39;49m\u001b[39m'\u001b[39;49m,\n\u001b[0;32m     <a href='vscode-notebook-cell:/c%3A/Users/blanx/ironhack/labs_clase/semana_5/dia_2/5.2-lab_interactive_visualization_blanca/your-code/main.ipynb#X40sZmlsZQ%3D%3D?line=31'>32</a>\u001b[0m             \u001b[39m'\u001b[39;49m\u001b[39mmethod\u001b[39;49m\u001b[39m'\u001b[39;49m: \u001b[39m'\u001b[39;49m\u001b[39mrelayout\u001b[39;49m\u001b[39m'\u001b[39;49m}\n\u001b[0;32m     <a href='vscode-notebook-cell:/c%3A/Users/blanx/ironhack/labs_clase/semana_5/dia_2/5.2-lab_interactive_visualization_blanca/your-code/main.ipynb#X40sZmlsZQ%3D%3D?line=32'>33</a>\u001b[0m     ]\n\u001b[0;32m     <a href='vscode-notebook-cell:/c%3A/Users/blanx/ironhack/labs_clase/semana_5/dia_2/5.2-lab_interactive_visualization_blanca/your-code/main.ipynb#X40sZmlsZQ%3D%3D?line=33'>34</a>\u001b[0m )\n\u001b[0;32m     <a href='vscode-notebook-cell:/c%3A/Users/blanx/ironhack/labs_clase/semana_5/dia_2/5.2-lab_interactive_visualization_blanca/your-code/main.ipynb#X40sZmlsZQ%3D%3D?line=35'>36</a>\u001b[0m \u001b[39m# Muestra el gráfico interactivo\u001b[39;00m\n\u001b[0;32m     <a href='vscode-notebook-cell:/c%3A/Users/blanx/ironhack/labs_clase/semana_5/dia_2/5.2-lab_interactive_visualization_blanca/your-code/main.ipynb#X40sZmlsZQ%3D%3D?line=36'>37</a>\u001b[0m fig\u001b[39m.\u001b[39mshow()\n",
      "File \u001b[1;32mc:\\Users\\blanx\\AppData\\Local\\Programs\\Python\\Python311\\Lib\\site-packages\\plotly\\graph_objs\\_figure.py:775\u001b[0m, in \u001b[0;36mFigure.update_layout\u001b[1;34m(self, dict1, overwrite, **kwargs)\u001b[0m\n\u001b[0;32m    749\u001b[0m \u001b[39mdef\u001b[39;00m \u001b[39mupdate_layout\u001b[39m(\u001b[39mself\u001b[39m, dict1\u001b[39m=\u001b[39m\u001b[39mNone\u001b[39;00m, overwrite\u001b[39m=\u001b[39m\u001b[39mFalse\u001b[39;00m, \u001b[39m*\u001b[39m\u001b[39m*\u001b[39mkwargs) \u001b[39m-\u001b[39m\u001b[39m>\u001b[39m \u001b[39m\"\u001b[39m\u001b[39mFigure\u001b[39m\u001b[39m\"\u001b[39m:\n\u001b[0;32m    750\u001b[0m \u001b[39m    \u001b[39m\u001b[39m\"\"\"\u001b[39;00m\n\u001b[0;32m    751\u001b[0m \n\u001b[0;32m    752\u001b[0m \u001b[39m    Update the properties of the figure's layout with a dict and/or with\u001b[39;00m\n\u001b[1;32m   (...)\u001b[0m\n\u001b[0;32m    773\u001b[0m \n\u001b[0;32m    774\u001b[0m \u001b[39m    \"\"\"\u001b[39;00m\n\u001b[1;32m--> 775\u001b[0m     \u001b[39mreturn\u001b[39;00m \u001b[39msuper\u001b[39;49m(Figure, \u001b[39mself\u001b[39;49m)\u001b[39m.\u001b[39;49mupdate_layout(dict1, overwrite, \u001b[39m*\u001b[39;49m\u001b[39m*\u001b[39;49mkwargs)\n",
      "File \u001b[1;32mc:\\Users\\blanx\\AppData\\Local\\Programs\\Python\\Python311\\Lib\\site-packages\\plotly\\basedatatypes.py:1391\u001b[0m, in \u001b[0;36mBaseFigure.update_layout\u001b[1;34m(self, dict1, overwrite, **kwargs)\u001b[0m\n\u001b[0;32m   1367\u001b[0m \u001b[39mdef\u001b[39;00m \u001b[39mupdate_layout\u001b[39m(\u001b[39mself\u001b[39m, dict1\u001b[39m=\u001b[39m\u001b[39mNone\u001b[39;00m, overwrite\u001b[39m=\u001b[39m\u001b[39mFalse\u001b[39;00m, \u001b[39m*\u001b[39m\u001b[39m*\u001b[39mkwargs):\n\u001b[0;32m   1368\u001b[0m \u001b[39m    \u001b[39m\u001b[39m\"\"\"\u001b[39;00m\n\u001b[0;32m   1369\u001b[0m \u001b[39m    Update the properties of the figure's layout with a dict and/or with\u001b[39;00m\n\u001b[0;32m   1370\u001b[0m \u001b[39m    keyword arguments.\u001b[39;00m\n\u001b[1;32m   (...)\u001b[0m\n\u001b[0;32m   1389\u001b[0m \u001b[39m        The Figure object that the update_layout method was called on\u001b[39;00m\n\u001b[0;32m   1390\u001b[0m \u001b[39m    \"\"\"\u001b[39;00m\n\u001b[1;32m-> 1391\u001b[0m     \u001b[39mself\u001b[39;49m\u001b[39m.\u001b[39;49mlayout\u001b[39m.\u001b[39;49mupdate(dict1, overwrite\u001b[39m=\u001b[39;49moverwrite, \u001b[39m*\u001b[39;49m\u001b[39m*\u001b[39;49mkwargs)\n\u001b[0;32m   1392\u001b[0m     \u001b[39mreturn\u001b[39;00m \u001b[39mself\u001b[39m\n",
      "File \u001b[1;32mc:\\Users\\blanx\\AppData\\Local\\Programs\\Python\\Python311\\Lib\\site-packages\\plotly\\basedatatypes.py:5137\u001b[0m, in \u001b[0;36mBasePlotlyType.update\u001b[1;34m(self, dict1, overwrite, **kwargs)\u001b[0m\n\u001b[0;32m   5135\u001b[0m     \u001b[39mwith\u001b[39;00m \u001b[39mself\u001b[39m\u001b[39m.\u001b[39mfigure\u001b[39m.\u001b[39mbatch_update():\n\u001b[0;32m   5136\u001b[0m         BaseFigure\u001b[39m.\u001b[39m_perform_update(\u001b[39mself\u001b[39m, dict1, overwrite\u001b[39m=\u001b[39moverwrite)\n\u001b[1;32m-> 5137\u001b[0m         BaseFigure\u001b[39m.\u001b[39;49m_perform_update(\u001b[39mself\u001b[39;49m, kwargs, overwrite\u001b[39m=\u001b[39;49moverwrite)\n\u001b[0;32m   5138\u001b[0m \u001b[39melse\u001b[39;00m:\n\u001b[0;32m   5139\u001b[0m     BaseFigure\u001b[39m.\u001b[39m_perform_update(\u001b[39mself\u001b[39m, dict1, overwrite\u001b[39m=\u001b[39moverwrite)\n",
      "File \u001b[1;32mc:\\Users\\blanx\\AppData\\Local\\Programs\\Python\\Python311\\Lib\\site-packages\\plotly\\basedatatypes.py:3937\u001b[0m, in \u001b[0;36mBaseFigure._perform_update\u001b[1;34m(plotly_obj, update_obj, overwrite)\u001b[0m\n\u001b[0;32m   3931\u001b[0m             plotly_obj[key] \u001b[39m=\u001b[39m plotly_obj[key] \u001b[39m+\u001b[39m \u001b[39mtuple\u001b[39m(\n\u001b[0;32m   3932\u001b[0m                 val[\u001b[39mlen\u001b[39m(plotly_obj[key]) :]\n\u001b[0;32m   3933\u001b[0m             )\n\u001b[0;32m   3934\u001b[0m     \u001b[39melse\u001b[39;00m:\n\u001b[0;32m   3935\u001b[0m         \u001b[39m# plotly_obj is an empty or uninitialized list for key\u001b[39;00m\n\u001b[0;32m   3936\u001b[0m         \u001b[39m# In this case we accept val as is\u001b[39;00m\n\u001b[1;32m-> 3937\u001b[0m         plotly_obj[key] \u001b[39m=\u001b[39m val\n\u001b[0;32m   3938\u001b[0m \u001b[39melse\u001b[39;00m:\n\u001b[0;32m   3939\u001b[0m     \u001b[39m# Assign non-compound value\u001b[39;00m\n\u001b[0;32m   3940\u001b[0m     plotly_obj[key] \u001b[39m=\u001b[39m val\n",
      "File \u001b[1;32mc:\\Users\\blanx\\AppData\\Local\\Programs\\Python\\Python311\\Lib\\site-packages\\plotly\\basedatatypes.py:5912\u001b[0m, in \u001b[0;36mBaseLayoutType.__setitem__\u001b[1;34m(self, prop, value)\u001b[0m\n\u001b[0;32m   5909\u001b[0m match \u001b[39m=\u001b[39m \u001b[39mself\u001b[39m\u001b[39m.\u001b[39m_subplot_re_match(prop)\n\u001b[0;32m   5910\u001b[0m \u001b[39mif\u001b[39;00m match \u001b[39mis\u001b[39;00m \u001b[39mNone\u001b[39;00m:\n\u001b[0;32m   5911\u001b[0m     \u001b[39m# Set as ordinary property\u001b[39;00m\n\u001b[1;32m-> 5912\u001b[0m     \u001b[39msuper\u001b[39;49m(BaseLayoutHierarchyType, \u001b[39mself\u001b[39;49m)\u001b[39m.\u001b[39;49m\u001b[39m__setitem__\u001b[39;49m(prop, value)\n\u001b[0;32m   5913\u001b[0m \u001b[39melse\u001b[39;00m:\n\u001b[0;32m   5914\u001b[0m     \u001b[39m# Set as subplotid property\u001b[39;00m\n\u001b[0;32m   5915\u001b[0m     \u001b[39mself\u001b[39m\u001b[39m.\u001b[39m_set_subplotid_prop(prop, value)\n",
      "File \u001b[1;32mc:\\Users\\blanx\\AppData\\Local\\Programs\\Python\\Python311\\Lib\\site-packages\\plotly\\basedatatypes.py:4870\u001b[0m, in \u001b[0;36mBasePlotlyType.__setitem__\u001b[1;34m(self, prop, value)\u001b[0m\n\u001b[0;32m   4868\u001b[0m \u001b[39m# ### Handle compound array property ###\u001b[39;00m\n\u001b[0;32m   4869\u001b[0m \u001b[39melif\u001b[39;00m \u001b[39misinstance\u001b[39m(validator, (CompoundArrayValidator, BaseDataValidator)):\n\u001b[1;32m-> 4870\u001b[0m     \u001b[39mself\u001b[39;49m\u001b[39m.\u001b[39;49m_set_array_prop(prop, value)\n\u001b[0;32m   4872\u001b[0m \u001b[39m# ### Handle simple property ###\u001b[39;00m\n\u001b[0;32m   4873\u001b[0m \u001b[39melse\u001b[39;00m:\n\u001b[0;32m   4874\u001b[0m     \u001b[39mself\u001b[39m\u001b[39m.\u001b[39m_set_prop(prop, value)\n",
      "File \u001b[1;32mc:\\Users\\blanx\\AppData\\Local\\Programs\\Python\\Python311\\Lib\\site-packages\\plotly\\basedatatypes.py:5351\u001b[0m, in \u001b[0;36mBasePlotlyType._set_array_prop\u001b[1;34m(self, prop, val)\u001b[0m\n\u001b[0;32m   5348\u001b[0m \u001b[39m# Import value\u001b[39;00m\n\u001b[0;32m   5349\u001b[0m \u001b[39m# ------------\u001b[39;00m\n\u001b[0;32m   5350\u001b[0m validator \u001b[39m=\u001b[39m \u001b[39mself\u001b[39m\u001b[39m.\u001b[39m_get_validator(prop)\n\u001b[1;32m-> 5351\u001b[0m val \u001b[39m=\u001b[39m validator\u001b[39m.\u001b[39;49mvalidate_coerce(val, skip_invalid\u001b[39m=\u001b[39;49m\u001b[39mself\u001b[39;49m\u001b[39m.\u001b[39;49m_skip_invalid)\n\u001b[0;32m   5353\u001b[0m \u001b[39m# Save deep copies of current and new states\u001b[39;00m\n\u001b[0;32m   5354\u001b[0m \u001b[39m# ------------------------------------------\u001b[39;00m\n\u001b[0;32m   5355\u001b[0m curr_val \u001b[39m=\u001b[39m \u001b[39mself\u001b[39m\u001b[39m.\u001b[39m_compound_array_props\u001b[39m.\u001b[39mget(prop, \u001b[39mNone\u001b[39;00m)\n",
      "File \u001b[1;32mc:\\Users\\blanx\\AppData\\Local\\Programs\\Python\\Python311\\Lib\\site-packages\\_plotly_utils\\basevalidators.py:2576\u001b[0m, in \u001b[0;36mCompoundArrayValidator.validate_coerce\u001b[1;34m(self, v, skip_invalid)\u001b[0m\n\u001b[0;32m   2574\u001b[0m     res\u001b[39m.\u001b[39mappend(\u001b[39mself\u001b[39m\u001b[39m.\u001b[39mdata_class(v_el))\n\u001b[0;32m   2575\u001b[0m \u001b[39melif\u001b[39;00m \u001b[39misinstance\u001b[39m(v_el, \u001b[39mdict\u001b[39m):\n\u001b[1;32m-> 2576\u001b[0m     res\u001b[39m.\u001b[39mappend(\u001b[39mself\u001b[39;49m\u001b[39m.\u001b[39;49mdata_class(v_el, skip_invalid\u001b[39m=\u001b[39;49mskip_invalid))\n\u001b[0;32m   2577\u001b[0m \u001b[39melse\u001b[39;00m:\n\u001b[0;32m   2578\u001b[0m     \u001b[39mif\u001b[39;00m skip_invalid:\n",
      "File \u001b[1;32mc:\\Users\\blanx\\AppData\\Local\\Programs\\Python\\Python311\\Lib\\site-packages\\plotly\\graph_objs\\layout\\_slider.py:1181\u001b[0m, in \u001b[0;36mSlider.__init__\u001b[1;34m(self, arg, active, activebgcolor, bgcolor, bordercolor, borderwidth, currentvalue, font, len, lenmode, minorticklen, name, pad, steps, stepdefaults, templateitemname, tickcolor, ticklen, tickwidth, transition, visible, x, xanchor, y, yanchor, **kwargs)\u001b[0m\n\u001b[0;32m   1177\u001b[0m     \u001b[39mself\u001b[39m[\u001b[39m\"\u001b[39m\u001b[39myanchor\u001b[39m\u001b[39m\"\u001b[39m] \u001b[39m=\u001b[39m _v\n\u001b[0;32m   1179\u001b[0m \u001b[39m# Process unknown kwargs\u001b[39;00m\n\u001b[0;32m   1180\u001b[0m \u001b[39m# ----------------------\u001b[39;00m\n\u001b[1;32m-> 1181\u001b[0m \u001b[39mself\u001b[39;49m\u001b[39m.\u001b[39;49m_process_kwargs(\u001b[39m*\u001b[39;49m\u001b[39m*\u001b[39;49m\u001b[39mdict\u001b[39;49m(arg, \u001b[39m*\u001b[39;49m\u001b[39m*\u001b[39;49mkwargs))\n\u001b[0;32m   1183\u001b[0m \u001b[39m# Reset skip_invalid\u001b[39;00m\n\u001b[0;32m   1184\u001b[0m \u001b[39m# ------------------\u001b[39;00m\n\u001b[0;32m   1185\u001b[0m \u001b[39mself\u001b[39m\u001b[39m.\u001b[39m_skip_invalid \u001b[39m=\u001b[39m \u001b[39mFalse\u001b[39;00m\n",
      "File \u001b[1;32mc:\\Users\\blanx\\AppData\\Local\\Programs\\Python\\Python311\\Lib\\site-packages\\plotly\\basedatatypes.py:4392\u001b[0m, in \u001b[0;36mBasePlotlyType._process_kwargs\u001b[1;34m(self, **kwargs)\u001b[0m\n\u001b[0;32m   4390\u001b[0m     \u001b[39mself\u001b[39m[k] \u001b[39m=\u001b[39m v\n\u001b[0;32m   4391\u001b[0m \u001b[39melif\u001b[39;00m \u001b[39mnot\u001b[39;00m \u001b[39mself\u001b[39m\u001b[39m.\u001b[39m_skip_invalid:\n\u001b[1;32m-> 4392\u001b[0m     \u001b[39mraise\u001b[39;00m err\n",
      "\u001b[1;31mValueError\u001b[0m: Invalid property specified for object of type plotly.graph_objs.layout.Slider: 'label'\n\nDid you mean \"len\"?\n\n    Valid properties:\n        active\n            Determines which button (by index starting from 0) is\n            considered active.\n        activebgcolor\n            Sets the background color of the slider grip while\n            dragging.\n        bgcolor\n            Sets the background color of the slider.\n        bordercolor\n            Sets the color of the border enclosing the slider.\n        borderwidth\n            Sets the width (in px) of the border enclosing the\n            slider.\n        currentvalue\n            :class:`plotly.graph_objects.layout.slider.Currentvalue\n            ` instance or dict with compatible properties\n        font\n            Sets the font of the slider step labels.\n        len\n            Sets the length of the slider This measure excludes the\n            padding of both ends. That is, the slider's length is\n            this length minus the padding on both ends.\n        lenmode\n            Determines whether this slider length is set in units\n            of plot \"fraction\" or in *pixels. Use `len` to set the\n            value.\n        minorticklen\n            Sets the length in pixels of minor step tick marks\n        name\n            When used in a template, named items are created in the\n            output figure in addition to any items the figure\n            already has in this array. You can modify these items\n            in the output figure by making your own item with\n            `templateitemname` matching this `name` alongside your\n            modifications (including `visible: false` or `enabled:\n            false` to hide it). Has no effect outside of a\n            template.\n        pad\n            Set the padding of the slider component along each\n            side.\n        steps\n            A tuple of\n            :class:`plotly.graph_objects.layout.slider.Step`\n            instances or dicts with compatible properties\n        stepdefaults\n            When used in a template (as\n            layout.template.layout.slider.stepdefaults), sets the\n            default property values to use for elements of\n            layout.slider.steps\n        templateitemname\n            Used to refer to a named item in this array in the\n            template. Named items from the template will be created\n            even without a matching item in the input figure, but\n            you can modify one by making an item with\n            `templateitemname` matching its `name`, alongside your\n            modifications (including `visible: false` or `enabled:\n            false` to hide it). If there is no template or no\n            matching item, this item will be hidden unless you\n            explicitly show it with `visible: true`.\n        tickcolor\n            Sets the color of the border enclosing the slider.\n        ticklen\n            Sets the length in pixels of step tick marks\n        tickwidth\n            Sets the tick width (in px).\n        transition\n            :class:`plotly.graph_objects.layout.slider.Transition`\n            instance or dict with compatible properties\n        visible\n            Determines whether or not the slider is visible.\n        x\n            Sets the x position (in normalized coordinates) of the\n            slider.\n        xanchor\n            Sets the slider's horizontal position anchor. This\n            anchor binds the `x` position to the \"left\", \"center\"\n            or \"right\" of the range selector.\n        y\n            Sets the y position (in normalized coordinates) of the\n            slider.\n        yanchor\n            Sets the slider's vertical position anchor This anchor\n            binds the `y` position to the \"top\", \"middle\" or\n            \"bottom\" of the range selector.\n        \nDid you mean \"len\"?\n\nBad property path:\nlabel\n^^^^^"
     ]
    }
   ],
   "source": [
    "unique_products_per_invoice = df.drop_duplicates(subset=['InvoiceNo', 'StockCode'])\n",
    "\n",
    "product_stats = unique_products_per_invoice.groupby('StockCode').agg({'InvoiceNo': 'count', 'CustomerID': 'nunique'}).reset_index()\n",
    "\n",
    "fig = px.scatter(product_stats, x='InvoiceNo', y='CustomerID', text='StockCode',\n",
    "                 labels={'InvoiceNo': 'Number of Invoices', 'CustomerID': 'Number of Customers'},\n",
    "                 title='Number of Invoices vs. Number of Customers per Product',\n",
    "                 hover_name='StockCode')\n",
    "\n",
    "fig.update_layout(\n",
    "    sliders=[\n",
    "        {'steps': [\n",
    "            {'args': ['x', [0, 100]], 'label': '0-100'},\n",
    "            {'args': ['x', [100, 200]], 'label': '100-200'},\n",
    "            {'args': ['x', [200, 300]], 'label': '200-300'},\n",
    "        ],\n",
    "            'active': 0,\n",
    "            'label': 'Number of Invoices Range',\n",
    "            'method': 'relayout'},\n",
    "        {'steps': [\n",
    "            {'args': ['y', [0, 20]], 'label': '0-20'},\n",
    "            {'args': ['y', [20, 40]], 'label': '20-40'},\n",
    "            {'args': ['y', [40, 60]], 'label': '40-60'},\n",
    "        ],\n",
    "            'active': 0,\n",
    "            'label': 'Number of Customers Range',\n",
    "            'method': 'relayout'}\n",
    "    ]\n",
    ")\n",
    "\n",
    "fig.show()"
   ]
  },
  {
   "cell_type": "code",
   "execution_count": null,
   "metadata": {},
   "outputs": [],
   "source": []
  },
  {
   "cell_type": "markdown",
   "metadata": {},
   "source": [
    "## 8. Creat an interactive bar chart that shows revenue by product description. Add a text field widget that filters the results to show the product that contain the text entered in their description."
   ]
  },
  {
   "cell_type": "code",
   "execution_count": null,
   "metadata": {},
   "outputs": [],
   "source": [
    "def update_chart(description_filter):\n",
    "    filtered_data = df[df['Description'].str.contains(description_filter, case=False)]\n",
    "    \n",
    "    fig = px.bar(\n",
    "        filtered_data,\n",
    "        x='Description',\n",
    "        y='Revenue',\n",
    "        text='Revenue',\n",
    "        title='Revenue by Product Description',\n",
    "        labels={'Description': 'Product Description', 'Revenue': 'Revenue'},\n",
    "    )\n",
    "    fig.update_traces(texttemplate='%{text:$,.2s}', textposition='outside')\n",
    "    fig.update_layout(uniformtext_minsize=8, uniformtext_mode='hide')\n",
    "\n",
    "    fig.show()\n",
    "\n",
    "description_widget = widgets.Text(\n",
    "    value='',\n",
    "    description='Filter by Description:',\n",
    "    continuous_update=False\n",
    ")\n",
    "\n",
    "widgets.interactive(update_chart, description_filter=description_widget)\n",
    "\n",
    "update_chart(\"\")  \n",
    "display(description_widget)"
   ]
  }
 ],
 "metadata": {
  "kernelspec": {
   "display_name": "Python 3 (ipykernel)",
   "language": "python",
   "name": "python3"
  },
  "language_info": {
   "codemirror_mode": {
    "name": "ipython",
    "version": 3
   },
   "file_extension": ".py",
   "mimetype": "text/x-python",
   "name": "python",
   "nbconvert_exporter": "python",
   "pygments_lexer": "ipython3",
   "version": "3.11.1"
  }
 },
 "nbformat": 4,
 "nbformat_minor": 2
}
